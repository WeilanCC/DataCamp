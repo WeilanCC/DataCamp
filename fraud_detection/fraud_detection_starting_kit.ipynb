{
 "cells": [
  {
   "cell_type": "markdown",
   "metadata": {},
   "source": [
    "# [Paris Saclay Center for Data Science](http://www.datascience-paris-saclay.fr)\n",
    "\n",
    "\n",
    "# Fraud detection\n",
    "\n",
    "\n",
    "## Introduction\n"
   ]
  },
  {
   "cell_type": "markdown",
   "metadata": {},
   "source": [
    "### Requirements\n",
    "\n",
    "* numpy>=1.10.0  \n",
    "* matplotlib>=1.5.0 \n",
    "* pandas>=0.19.0  \n",
    "* scikit-learn>=0.19   "
   ]
  },
  {
   "cell_type": "code",
   "execution_count": 1,
   "metadata": {},
   "outputs": [],
   "source": [
    "%matplotlib inline\n",
    "import os\n",
    "import glob\n",
    "import numpy as np\n",
    "from scipy import io\n",
    "import matplotlib.pyplot as plt\n",
    "import pandas as pd\n",
    "pd.options.display.max_columns = 999"
   ]
  },
  {
   "cell_type": "markdown",
   "metadata": {},
   "source": [
    "## Exploratory data analysis"
   ]
  },
  {
   "cell_type": "markdown",
   "metadata": {},
   "source": [
    "### Loading the data\n",
    "\n"
   ]
  },
  {
   "cell_type": "code",
   "execution_count": 2,
   "metadata": {},
   "outputs": [],
   "source": [
    "train_filename = 'kaggle_data/train.csv'"
   ]
  },
  {
   "cell_type": "code",
   "execution_count": 3,
   "metadata": {
    "scrolled": true
   },
   "outputs": [],
   "source": [
    "data = pd.read_csv(train_filename)"
   ]
  },
  {
   "cell_type": "code",
   "execution_count": 4,
   "metadata": {},
   "outputs": [
    {
     "data": {
      "text/html": [
       "<div>\n",
       "<style scoped>\n",
       "    .dataframe tbody tr th:only-of-type {\n",
       "        vertical-align: middle;\n",
       "    }\n",
       "\n",
       "    .dataframe tbody tr th {\n",
       "        vertical-align: top;\n",
       "    }\n",
       "\n",
       "    .dataframe thead th {\n",
       "        text-align: right;\n",
       "    }\n",
       "</style>\n",
       "<table border=\"1\" class=\"dataframe\">\n",
       "  <thead>\n",
       "    <tr style=\"text-align: right;\">\n",
       "      <th></th>\n",
       "      <th>id</th>\n",
       "      <th>step</th>\n",
       "      <th>type</th>\n",
       "      <th>amount</th>\n",
       "      <th>nameOrig</th>\n",
       "      <th>oldbalanceOrg</th>\n",
       "      <th>newbalanceOrig</th>\n",
       "      <th>nameDest</th>\n",
       "      <th>oldbalanceDest</th>\n",
       "      <th>newbalanceDest</th>\n",
       "      <th>isFraud</th>\n",
       "      <th>isFlaggedFraud</th>\n",
       "    </tr>\n",
       "  </thead>\n",
       "  <tbody>\n",
       "    <tr>\n",
       "      <th>0</th>\n",
       "      <td>585384</td>\n",
       "      <td>33</td>\n",
       "      <td>TRANSFER</td>\n",
       "      <td>858173.68</td>\n",
       "      <td>C1377622466</td>\n",
       "      <td>0.00</td>\n",
       "      <td>0.00</td>\n",
       "      <td>C19605810</td>\n",
       "      <td>2851522.11</td>\n",
       "      <td>3709695.79</td>\n",
       "      <td>0</td>\n",
       "      <td>0</td>\n",
       "    </tr>\n",
       "    <tr>\n",
       "      <th>1</th>\n",
       "      <td>2799765</td>\n",
       "      <td>217</td>\n",
       "      <td>PAYMENT</td>\n",
       "      <td>1871.41</td>\n",
       "      <td>C754521595</td>\n",
       "      <td>166974.00</td>\n",
       "      <td>165102.59</td>\n",
       "      <td>M1192749076</td>\n",
       "      <td>0.00</td>\n",
       "      <td>0.00</td>\n",
       "      <td>0</td>\n",
       "      <td>0</td>\n",
       "    </tr>\n",
       "    <tr>\n",
       "      <th>2</th>\n",
       "      <td>4037980</td>\n",
       "      <td>299</td>\n",
       "      <td>CASH_IN</td>\n",
       "      <td>457275.37</td>\n",
       "      <td>C2132467749</td>\n",
       "      <td>2680080.92</td>\n",
       "      <td>3137356.29</td>\n",
       "      <td>C964888645</td>\n",
       "      <td>481508.22</td>\n",
       "      <td>24232.86</td>\n",
       "      <td>0</td>\n",
       "      <td>0</td>\n",
       "    </tr>\n",
       "    <tr>\n",
       "      <th>3</th>\n",
       "      <td>2376123</td>\n",
       "      <td>192</td>\n",
       "      <td>PAYMENT</td>\n",
       "      <td>2286.72</td>\n",
       "      <td>C1339362342</td>\n",
       "      <td>32264.00</td>\n",
       "      <td>29977.28</td>\n",
       "      <td>M1771272073</td>\n",
       "      <td>0.00</td>\n",
       "      <td>0.00</td>\n",
       "      <td>0</td>\n",
       "      <td>0</td>\n",
       "    </tr>\n",
       "    <tr>\n",
       "      <th>4</th>\n",
       "      <td>5681109</td>\n",
       "      <td>397</td>\n",
       "      <td>CASH_OUT</td>\n",
       "      <td>415565.81</td>\n",
       "      <td>C264657244</td>\n",
       "      <td>32286.48</td>\n",
       "      <td>0.00</td>\n",
       "      <td>C327232824</td>\n",
       "      <td>823634.07</td>\n",
       "      <td>1239199.89</td>\n",
       "      <td>0</td>\n",
       "      <td>0</td>\n",
       "    </tr>\n",
       "  </tbody>\n",
       "</table>\n",
       "</div>"
      ],
      "text/plain": [
       "        id  step      type     amount     nameOrig  oldbalanceOrg  \\\n",
       "0   585384    33  TRANSFER  858173.68  C1377622466           0.00   \n",
       "1  2799765   217   PAYMENT    1871.41   C754521595      166974.00   \n",
       "2  4037980   299   CASH_IN  457275.37  C2132467749     2680080.92   \n",
       "3  2376123   192   PAYMENT    2286.72  C1339362342       32264.00   \n",
       "4  5681109   397  CASH_OUT  415565.81   C264657244       32286.48   \n",
       "\n",
       "   newbalanceOrig     nameDest  oldbalanceDest  newbalanceDest  isFraud  \\\n",
       "0            0.00    C19605810      2851522.11      3709695.79        0   \n",
       "1       165102.59  M1192749076            0.00            0.00        0   \n",
       "2      3137356.29   C964888645       481508.22        24232.86        0   \n",
       "3        29977.28  M1771272073            0.00            0.00        0   \n",
       "4            0.00   C327232824       823634.07      1239199.89        0   \n",
       "\n",
       "   isFlaggedFraud  \n",
       "0               0  \n",
       "1               0  \n",
       "2               0  \n",
       "3               0  \n",
       "4               0  "
      ]
     },
     "execution_count": 4,
     "metadata": {},
     "output_type": "execute_result"
    }
   ],
   "source": [
    "data.head()"
   ]
  },
  {
   "cell_type": "code",
   "execution_count": 5,
   "metadata": {},
   "outputs": [
    {
     "data": {
      "text/html": [
       "<div>\n",
       "<style scoped>\n",
       "    .dataframe tbody tr th:only-of-type {\n",
       "        vertical-align: middle;\n",
       "    }\n",
       "\n",
       "    .dataframe tbody tr th {\n",
       "        vertical-align: top;\n",
       "    }\n",
       "\n",
       "    .dataframe thead th {\n",
       "        text-align: right;\n",
       "    }\n",
       "</style>\n",
       "<table border=\"1\" class=\"dataframe\">\n",
       "  <thead>\n",
       "    <tr style=\"text-align: right;\">\n",
       "      <th></th>\n",
       "      <th>id</th>\n",
       "      <th>step</th>\n",
       "      <th>amount</th>\n",
       "      <th>oldbalanceOrg</th>\n",
       "      <th>newbalanceOrig</th>\n",
       "      <th>oldbalanceDest</th>\n",
       "      <th>newbalanceDest</th>\n",
       "      <th>isFraud</th>\n",
       "      <th>isFlaggedFraud</th>\n",
       "    </tr>\n",
       "  </thead>\n",
       "  <tbody>\n",
       "    <tr>\n",
       "      <th>count</th>\n",
       "      <td>5.090096e+06</td>\n",
       "      <td>5.090096e+06</td>\n",
       "      <td>5.090096e+06</td>\n",
       "      <td>5.090096e+06</td>\n",
       "      <td>5.090096e+06</td>\n",
       "      <td>5.090096e+06</td>\n",
       "      <td>5.090096e+06</td>\n",
       "      <td>5.090096e+06</td>\n",
       "      <td>5.090096e+06</td>\n",
       "    </tr>\n",
       "    <tr>\n",
       "      <th>mean</th>\n",
       "      <td>3.181016e+06</td>\n",
       "      <td>2.433767e+02</td>\n",
       "      <td>1.797618e+05</td>\n",
       "      <td>8.339720e+05</td>\n",
       "      <td>8.551916e+05</td>\n",
       "      <td>1.101940e+06</td>\n",
       "      <td>1.226144e+06</td>\n",
       "      <td>1.292117e-03</td>\n",
       "      <td>2.357519e-06</td>\n",
       "    </tr>\n",
       "    <tr>\n",
       "      <th>std</th>\n",
       "      <td>1.836811e+06</td>\n",
       "      <td>1.423399e+02</td>\n",
       "      <td>6.029072e+05</td>\n",
       "      <td>2.890093e+06</td>\n",
       "      <td>2.925882e+06</td>\n",
       "      <td>3.414435e+06</td>\n",
       "      <td>3.685224e+06</td>\n",
       "      <td>3.592280e-02</td>\n",
       "      <td>1.535420e-03</td>\n",
       "    </tr>\n",
       "    <tr>\n",
       "      <th>min</th>\n",
       "      <td>0.000000e+00</td>\n",
       "      <td>1.000000e+00</td>\n",
       "      <td>0.000000e+00</td>\n",
       "      <td>0.000000e+00</td>\n",
       "      <td>0.000000e+00</td>\n",
       "      <td>0.000000e+00</td>\n",
       "      <td>0.000000e+00</td>\n",
       "      <td>0.000000e+00</td>\n",
       "      <td>0.000000e+00</td>\n",
       "    </tr>\n",
       "    <tr>\n",
       "      <th>25%</th>\n",
       "      <td>1.589947e+06</td>\n",
       "      <td>1.550000e+02</td>\n",
       "      <td>1.338314e+04</td>\n",
       "      <td>0.000000e+00</td>\n",
       "      <td>0.000000e+00</td>\n",
       "      <td>0.000000e+00</td>\n",
       "      <td>0.000000e+00</td>\n",
       "      <td>0.000000e+00</td>\n",
       "      <td>0.000000e+00</td>\n",
       "    </tr>\n",
       "    <tr>\n",
       "      <th>50%</th>\n",
       "      <td>3.180644e+06</td>\n",
       "      <td>2.390000e+02</td>\n",
       "      <td>7.480644e+04</td>\n",
       "      <td>1.418500e+04</td>\n",
       "      <td>0.000000e+00</td>\n",
       "      <td>1.326494e+05</td>\n",
       "      <td>2.145384e+05</td>\n",
       "      <td>0.000000e+00</td>\n",
       "      <td>0.000000e+00</td>\n",
       "    </tr>\n",
       "    <tr>\n",
       "      <th>75%</th>\n",
       "      <td>4.771452e+06</td>\n",
       "      <td>3.350000e+02</td>\n",
       "      <td>2.087140e+05</td>\n",
       "      <td>1.072629e+05</td>\n",
       "      <td>1.441016e+05</td>\n",
       "      <td>9.433011e+05</td>\n",
       "      <td>1.112644e+06</td>\n",
       "      <td>0.000000e+00</td>\n",
       "      <td>0.000000e+00</td>\n",
       "    </tr>\n",
       "    <tr>\n",
       "      <th>max</th>\n",
       "      <td>6.362619e+06</td>\n",
       "      <td>7.430000e+02</td>\n",
       "      <td>9.244552e+07</td>\n",
       "      <td>5.958504e+07</td>\n",
       "      <td>4.958504e+07</td>\n",
       "      <td>3.560159e+08</td>\n",
       "      <td>3.561793e+08</td>\n",
       "      <td>1.000000e+00</td>\n",
       "      <td>1.000000e+00</td>\n",
       "    </tr>\n",
       "  </tbody>\n",
       "</table>\n",
       "</div>"
      ],
      "text/plain": [
       "                 id          step        amount  oldbalanceOrg  \\\n",
       "count  5.090096e+06  5.090096e+06  5.090096e+06   5.090096e+06   \n",
       "mean   3.181016e+06  2.433767e+02  1.797618e+05   8.339720e+05   \n",
       "std    1.836811e+06  1.423399e+02  6.029072e+05   2.890093e+06   \n",
       "min    0.000000e+00  1.000000e+00  0.000000e+00   0.000000e+00   \n",
       "25%    1.589947e+06  1.550000e+02  1.338314e+04   0.000000e+00   \n",
       "50%    3.180644e+06  2.390000e+02  7.480644e+04   1.418500e+04   \n",
       "75%    4.771452e+06  3.350000e+02  2.087140e+05   1.072629e+05   \n",
       "max    6.362619e+06  7.430000e+02  9.244552e+07   5.958504e+07   \n",
       "\n",
       "       newbalanceOrig  oldbalanceDest  newbalanceDest       isFraud  \\\n",
       "count    5.090096e+06    5.090096e+06    5.090096e+06  5.090096e+06   \n",
       "mean     8.551916e+05    1.101940e+06    1.226144e+06  1.292117e-03   \n",
       "std      2.925882e+06    3.414435e+06    3.685224e+06  3.592280e-02   \n",
       "min      0.000000e+00    0.000000e+00    0.000000e+00  0.000000e+00   \n",
       "25%      0.000000e+00    0.000000e+00    0.000000e+00  0.000000e+00   \n",
       "50%      0.000000e+00    1.326494e+05    2.145384e+05  0.000000e+00   \n",
       "75%      1.441016e+05    9.433011e+05    1.112644e+06  0.000000e+00   \n",
       "max      4.958504e+07    3.560159e+08    3.561793e+08  1.000000e+00   \n",
       "\n",
       "       isFlaggedFraud  \n",
       "count    5.090096e+06  \n",
       "mean     2.357519e-06  \n",
       "std      1.535420e-03  \n",
       "min      0.000000e+00  \n",
       "25%      0.000000e+00  \n",
       "50%      0.000000e+00  \n",
       "75%      0.000000e+00  \n",
       "max      1.000000e+00  "
      ]
     },
     "execution_count": 5,
     "metadata": {},
     "output_type": "execute_result"
    }
   ],
   "source": [
    "data.describe()"
   ]
  },
  {
   "cell_type": "code",
   "execution_count": 6,
   "metadata": {},
   "outputs": [
    {
     "name": "stdout",
     "output_type": "stream",
     "text": [
      "<class 'pandas.core.frame.DataFrame'>\n",
      "RangeIndex: 5090096 entries, 0 to 5090095\n",
      "Data columns (total 12 columns):\n",
      "id                int64\n",
      "step              int64\n",
      "type              object\n",
      "amount            float64\n",
      "nameOrig          object\n",
      "oldbalanceOrg     float64\n",
      "newbalanceOrig    float64\n",
      "nameDest          object\n",
      "oldbalanceDest    float64\n",
      "newbalanceDest    float64\n",
      "isFraud           int64\n",
      "isFlaggedFraud    int64\n",
      "dtypes: float64(5), int64(4), object(3)\n",
      "memory usage: 466.0+ MB\n"
     ]
    }
   ],
   "source": [
    "data.info()"
   ]
  },
  {
   "cell_type": "code",
   "execution_count": 7,
   "metadata": {},
   "outputs": [
    {
     "data": {
      "text/plain": [
       "id                5090096\n",
       "step              5090096\n",
       "type              5090096\n",
       "amount            5090096\n",
       "nameOrig          5090096\n",
       "oldbalanceOrg     5090096\n",
       "newbalanceOrig    5090096\n",
       "nameDest          5090096\n",
       "oldbalanceDest    5090096\n",
       "newbalanceDest    5090096\n",
       "isFraud           5090096\n",
       "isFlaggedFraud    5090096\n",
       "dtype: int64"
      ]
     },
     "execution_count": 7,
     "metadata": {},
     "output_type": "execute_result"
    }
   ],
   "source": [
    "data.count()"
   ]
  },
  {
   "cell_type": "code",
   "execution_count": 8,
   "metadata": {},
   "outputs": [
    {
     "data": {
      "text/plain": [
       "array([0, 1])"
      ]
     },
     "execution_count": 8,
     "metadata": {},
     "output_type": "execute_result"
    }
   ],
   "source": [
    "np.unique(data['isFraud'])"
   ]
  },
  {
   "cell_type": "code",
   "execution_count": 9,
   "metadata": {},
   "outputs": [
    {
     "data": {
      "text/html": [
       "<div>\n",
       "<style scoped>\n",
       "    .dataframe tbody tr th:only-of-type {\n",
       "        vertical-align: middle;\n",
       "    }\n",
       "\n",
       "    .dataframe tbody tr th {\n",
       "        vertical-align: top;\n",
       "    }\n",
       "\n",
       "    .dataframe thead th {\n",
       "        text-align: right;\n",
       "    }\n",
       "</style>\n",
       "<table border=\"1\" class=\"dataframe\">\n",
       "  <thead>\n",
       "    <tr style=\"text-align: right;\">\n",
       "      <th></th>\n",
       "      <th>id</th>\n",
       "    </tr>\n",
       "    <tr>\n",
       "      <th>isFraud</th>\n",
       "      <th></th>\n",
       "    </tr>\n",
       "  </thead>\n",
       "  <tbody>\n",
       "    <tr>\n",
       "      <th>0</th>\n",
       "      <td>5083519</td>\n",
       "    </tr>\n",
       "    <tr>\n",
       "      <th>1</th>\n",
       "      <td>6577</td>\n",
       "    </tr>\n",
       "  </tbody>\n",
       "</table>\n",
       "</div>"
      ],
      "text/plain": [
       "              id\n",
       "isFraud         \n",
       "0        5083519\n",
       "1           6577"
      ]
     },
     "execution_count": 9,
     "metadata": {},
     "output_type": "execute_result"
    }
   ],
   "source": [
    "data.groupby('isFraud').count()[['id']]"
   ]
  },
  {
   "cell_type": "markdown",
   "metadata": {},
   "source": [
    "## The pipeline\n",
    "\n",
    "For submitting at the [RAMP site](http://ramp.studio), you will have to write two classes, saved in two different files,\n",
    "* the class `FeatureExtractor`, which will be used to extract features for classification from the dataset and produce a numpy array of size (number of samples $\\times$ number of features), and  \n",
    "* the class `Classifier` to predict the target."
   ]
  },
  {
   "cell_type": "markdown",
   "metadata": {},
   "source": [
    "### Feature extractor"
   ]
  },
  {
   "cell_type": "markdown",
   "metadata": {},
   "source": [
    "The feature extractor implements a `transform` member function. It is saved in the file [`submissions/starting_kit/feature_extractor.py`](/edit/submissions/starting_kit/feature_extractor.py). It receives the pandas dataframe `X_df` defined at the beginning of the notebook. It should produce a numpy array representing the extracted features, which will then be used for the classification.  \n",
    "\n",
    "Note that the following code cells are *not* executed in the notebook. The notebook saves their contents in the file specified in the first line of the cell, so you can edit your submission before running the local test below and submitting it at the RAMP site."
   ]
  },
  {
   "cell_type": "code",
   "execution_count": 10,
   "metadata": {},
   "outputs": [
    {
     "name": "stdout",
     "output_type": "stream",
     "text": [
      "Overwriting submissions/starting_kit/feature_extractor.py\n"
     ]
    }
   ],
   "source": [
    "%%file submissions/starting_kit/feature_extractor.py\n",
    "import numpy as np\n",
    "from sklearn import preprocessing\n",
    "\n",
    "class FeatureExtractor():\n",
    "    def __init__(self):\n",
    "        self.le = preprocessing.LabelEncoder()\n",
    "        self.enc = preprocessing.OneHotEncoder()\n",
    "\n",
    "    def fit(self, X_df, y):\n",
    "        return self\n",
    "\n",
    "    def transform(self, X_df):\n",
    "        X_df = X_df.drop(['nameDest','nameOrig'],axis = 1)\n",
    "        X_categorical = X_df.select_dtypes(include=[object])\n",
    "        X_label = X_categorical.apply(self.le.fit_transform)\n",
    "        self.enc.fit(X_label)\n",
    "        dummy = self.enc.transform(X_label).toarray()\n",
    "        X_df = X_df.drop(['type'],axis = 1)\n",
    "        return np.concatenate((X_df.values, dummy), axis=1)"
   ]
  },
  {
   "cell_type": "markdown",
   "metadata": {},
   "source": [
    "### Classifier"
   ]
  },
  {
   "cell_type": "markdown",
   "metadata": {},
   "source": [
    "The classifier follows a classical scikit-learn classifier template. It should be saved in the file [`submissions/starting_kit/classifier.py`](/edit/submissions/starting_kit/classifier.py). In its simplest form it takes a scikit-learn pipeline, assigns it to `self.clf` in `__init__`, then calls its `fit` and `predict_proba` functions in the corresponding member funtions."
   ]
  },
  {
   "cell_type": "code",
   "execution_count": 11,
   "metadata": {},
   "outputs": [
    {
     "name": "stdout",
     "output_type": "stream",
     "text": [
      "Overwriting submissions/starting_kit/classifier.py\n"
     ]
    }
   ],
   "source": [
    "%%file submissions/starting_kit/classifier.py\n",
    "from sklearn.base import BaseEstimator\n",
    "from sklearn.ensemble import RandomForestClassifier\n",
    "\n",
    "\n",
    "class Classifier(BaseEstimator):\n",
    "    def __init__(self):\n",
    "        self.clf = RandomForestClassifier(n_estimators=100, max_leaf_nodes=10, random_state=125)\n",
    "\n",
    "    def fit(self, X, y):\n",
    "        self.clf.fit(X, y)\n",
    "\n",
    "    def predict(self, X):\n",
    "        return self.clf.predict(X)\n",
    "\n",
    "    def predict_proba(self, X):\n",
    "        return self.clf.predict_proba(X)"
   ]
  },
  {
   "cell_type": "markdown",
   "metadata": {},
   "source": [
    "## Local testing (before submission)\n",
    "\n",
    "It is <b><span style=\"color:red\">important that you test your submission files before submitting them</span></b>. For this we provide a unit test. Note that the test runs on your files in [`submissions/starting_kit`](/tree/submissions/starting_kit), not on the classes defined in the cells of this notebook.\n",
    "\n",
    "First `pip install ramp-workflow` or install it from the [github repo](https://github.com/paris-saclay-cds/ramp-workflow). Make sure that the python files `classifier.py` and `feature_extractor.py` are in the  [`submissions/starting_kit`](/tree/submissions/starting_kit) folder, and the data `train.csv` and `test.csv` are in [`data`](/tree/data). Then run\n",
    "\n",
    "```ramp_test_submission```\n",
    "\n",
    "If it runs and print training and test errors on each fold, then you can submit the code.\n"
   ]
  },
  {
   "cell_type": "code",
   "execution_count": 12,
   "metadata": {
    "scrolled": true
   },
   "outputs": [],
   "source": [
    "#!ramp_test_submission"
   ]
  },
  {
   "cell_type": "markdown",
   "metadata": {},
   "source": [
    "You can use the `--quick-test` switch to test the notebook on the mock data sets in `data/`. Since the data is random, the scores will not be meaningful, but it can be useful to run this first on your submissions to make sure they run without errors."
   ]
  },
  {
   "cell_type": "code",
   "execution_count": 13,
   "metadata": {},
   "outputs": [
    {
     "name": "stdout",
     "output_type": "stream",
     "text": [
      "\u001b[38;5;178m\u001b[1mTesting Fraud detection\u001b[0m\n",
      "\u001b[38;5;178m\u001b[1mReading train and test files from ./data ...\u001b[0m\n",
      "\u001b[38;5;178m\u001b[1mReading cv ...\u001b[0m\n",
      "\u001b[38;5;178m\u001b[1mTraining ./submissions/starting_kit ...\u001b[0m\n",
      "\u001b[38;5;178m\u001b[1mCV fold 0\u001b[0m\n",
      "\t\u001b[38;5;178m\u001b[1mscore  kappa  matthews  roc_auc    acc\u001b[0m\n",
      "\t\u001b[38;5;10m\u001b[1mtrain\u001b[0m  \u001b[38;5;10m\u001b[1m0.555\u001b[0m     \u001b[38;5;150m0.620\u001b[0m    \u001b[38;5;150m0.985\u001b[0m  \u001b[38;5;150m0.999\u001b[0m\n",
      "\t\u001b[38;5;12m\u001b[1mvalid\u001b[0m  \u001b[38;5;12m\u001b[1m0.507\u001b[0m     \u001b[38;5;105m0.583\u001b[0m    \u001b[38;5;105m0.986\u001b[0m  \u001b[38;5;105m0.999\u001b[0m\n",
      "\t\u001b[38;5;1m\u001b[1mtest\u001b[0m   \u001b[38;5;1m\u001b[1m0.531\u001b[0m     \u001b[38;5;218m0.601\u001b[0m    \u001b[38;5;218m0.986\u001b[0m  \u001b[38;5;218m0.999\u001b[0m\n",
      "\u001b[38;5;178m\u001b[1mCV fold 1\u001b[0m\n",
      "\t\u001b[38;5;178m\u001b[1mscore  kappa  matthews  roc_auc    acc\u001b[0m\n",
      "\t\u001b[38;5;10m\u001b[1mtrain\u001b[0m  \u001b[38;5;10m\u001b[1m0.586\u001b[0m     \u001b[38;5;150m0.644\u001b[0m    \u001b[38;5;150m0.986\u001b[0m  \u001b[38;5;150m0.999\u001b[0m\n",
      "\t\u001b[38;5;12m\u001b[1mvalid\u001b[0m  \u001b[38;5;12m\u001b[1m0.492\u001b[0m     \u001b[38;5;105m0.572\u001b[0m    \u001b[38;5;105m0.988\u001b[0m  \u001b[38;5;105m0.999\u001b[0m\n",
      "\t\u001b[38;5;1m\u001b[1mtest\u001b[0m   \u001b[38;5;1m\u001b[1m0.541\u001b[0m     \u001b[38;5;218m0.609\u001b[0m    \u001b[38;5;218m0.987\u001b[0m  \u001b[38;5;218m0.999\u001b[0m\n",
      "\u001b[38;5;178m\u001b[1mCV fold 2\u001b[0m\n",
      "\t\u001b[38;5;178m\u001b[1mscore  kappa  matthews  roc_auc    acc\u001b[0m\n",
      "\t\u001b[38;5;10m\u001b[1mtrain\u001b[0m  \u001b[38;5;10m\u001b[1m0.575\u001b[0m     \u001b[38;5;150m0.635\u001b[0m    \u001b[38;5;150m0.990\u001b[0m  \u001b[38;5;150m0.999\u001b[0m\n",
      "\t\u001b[38;5;12m\u001b[1mvalid\u001b[0m  \u001b[38;5;12m\u001b[1m0.418\u001b[0m     \u001b[38;5;105m0.514\u001b[0m    \u001b[38;5;105m0.987\u001b[0m  \u001b[38;5;105m0.999\u001b[0m\n",
      "\t\u001b[38;5;1m\u001b[1mtest\u001b[0m   \u001b[38;5;1m\u001b[1m0.500\u001b[0m     \u001b[38;5;218m0.577\u001b[0m    \u001b[38;5;218m0.989\u001b[0m  \u001b[38;5;218m0.999\u001b[0m\n",
      "\u001b[38;5;178m\u001b[1mCV fold 3\u001b[0m\n",
      "\t\u001b[38;5;178m\u001b[1mscore  kappa  matthews  roc_auc    acc\u001b[0m\n",
      "\t\u001b[38;5;10m\u001b[1mtrain\u001b[0m  \u001b[38;5;10m\u001b[1m0.470\u001b[0m     \u001b[38;5;150m0.554\u001b[0m    \u001b[38;5;150m0.988\u001b[0m  \u001b[38;5;150m0.999\u001b[0m\n",
      "\t\u001b[38;5;12m\u001b[1mvalid\u001b[0m  \u001b[38;5;12m\u001b[1m0.548\u001b[0m     \u001b[38;5;105m0.614\u001b[0m    \u001b[38;5;105m0.990\u001b[0m  \u001b[38;5;105m0.999\u001b[0m\n",
      "\t\u001b[38;5;1m\u001b[1mtest\u001b[0m   \u001b[38;5;1m\u001b[1m0.510\u001b[0m     \u001b[38;5;218m0.585\u001b[0m    \u001b[38;5;218m0.989\u001b[0m  \u001b[38;5;218m0.999\u001b[0m\n",
      "\u001b[38;5;178m\u001b[1mCV fold 4\u001b[0m\n",
      "\t\u001b[38;5;178m\u001b[1mscore  kappa  matthews  roc_auc    acc\u001b[0m\n",
      "\t\u001b[38;5;10m\u001b[1mtrain\u001b[0m  \u001b[38;5;10m\u001b[1m0.535\u001b[0m     \u001b[38;5;150m0.604\u001b[0m    \u001b[38;5;150m0.986\u001b[0m  \u001b[38;5;150m0.999\u001b[0m\n",
      "\t\u001b[38;5;12m\u001b[1mvalid\u001b[0m  \u001b[38;5;12m\u001b[1m0.394\u001b[0m     \u001b[38;5;105m0.495\u001b[0m    \u001b[38;5;105m0.975\u001b[0m  \u001b[38;5;105m0.999\u001b[0m\n",
      "\t\u001b[38;5;1m\u001b[1mtest\u001b[0m   \u001b[38;5;1m\u001b[1m0.467\u001b[0m     \u001b[38;5;218m0.552\u001b[0m    \u001b[38;5;218m0.981\u001b[0m  \u001b[38;5;218m0.999\u001b[0m\n",
      "\u001b[38;5;178m\u001b[1mCV fold 5\u001b[0m\n",
      "\t\u001b[38;5;178m\u001b[1mscore  kappa  matthews  roc_auc    acc\u001b[0m\n",
      "\t\u001b[38;5;10m\u001b[1mtrain\u001b[0m  \u001b[38;5;10m\u001b[1m0.555\u001b[0m     \u001b[38;5;150m0.620\u001b[0m    \u001b[38;5;150m0.994\u001b[0m  \u001b[38;5;150m0.999\u001b[0m\n",
      "\t\u001b[38;5;12m\u001b[1mvalid\u001b[0m  \u001b[38;5;12m\u001b[1m0.441\u001b[0m     \u001b[38;5;105m0.532\u001b[0m    \u001b[38;5;105m0.977\u001b[0m  \u001b[38;5;105m0.999\u001b[0m\n",
      "\t\u001b[38;5;1m\u001b[1mtest\u001b[0m   \u001b[38;5;1m\u001b[1m0.500\u001b[0m     \u001b[38;5;218m0.577\u001b[0m    \u001b[38;5;218m0.986\u001b[0m  \u001b[38;5;218m0.999\u001b[0m\n",
      "\u001b[38;5;178m\u001b[1mCV fold 6\u001b[0m\n",
      "\t\u001b[38;5;178m\u001b[1mscore  kappa  matthews  roc_auc    acc\u001b[0m\n",
      "\t\u001b[38;5;10m\u001b[1mtrain\u001b[0m  \u001b[38;5;10m\u001b[1m0.594\u001b[0m     \u001b[38;5;150m0.650\u001b[0m    \u001b[38;5;150m0.996\u001b[0m  \u001b[38;5;150m0.999\u001b[0m\n",
      "\t\u001b[38;5;12m\u001b[1mvalid\u001b[0m  \u001b[38;5;12m\u001b[1m0.317\u001b[0m     \u001b[38;5;105m0.434\u001b[0m    \u001b[38;5;105m0.983\u001b[0m  \u001b[38;5;105m0.999\u001b[0m\n",
      "\t\u001b[38;5;1m\u001b[1mtest\u001b[0m   \u001b[38;5;1m\u001b[1m0.467\u001b[0m     \u001b[38;5;218m0.552\u001b[0m    \u001b[38;5;218m0.990\u001b[0m  \u001b[38;5;218m0.999\u001b[0m\n",
      "\u001b[38;5;178m\u001b[1mCV fold 7\u001b[0m\n",
      "\t\u001b[38;5;178m\u001b[1mscore  kappa  matthews  roc_auc    acc\u001b[0m\n",
      "\t\u001b[38;5;10m\u001b[1mtrain\u001b[0m  \u001b[38;5;10m\u001b[1m0.485\u001b[0m     \u001b[38;5;150m0.566\u001b[0m    \u001b[38;5;150m\u001b[38;5;150m0.999\u001b[0m\u001b[0m  \u001b[38;5;150m\u001b[38;5;150m0.999\u001b[0m\u001b[0m\n",
      "\t\u001b[38;5;12m\u001b[1mvalid\u001b[0m  \u001b[38;5;12m\u001b[1m0.492\u001b[0m     \u001b[38;5;105m0.572\u001b[0m    \u001b[38;5;105m0.967\u001b[0m  \u001b[38;5;105m0.999\u001b[0m\n",
      "\t\u001b[38;5;1m\u001b[1mtest\u001b[0m   \u001b[38;5;1m\u001b[1m0.489\u001b[0m     \u001b[38;5;218m0.569\u001b[0m    \u001b[38;5;218m0.983\u001b[0m  \u001b[38;5;218m0.999\u001b[0m\n",
      "\u001b[38;5;178m\u001b[1m----------------------------\u001b[0m\n",
      "\u001b[38;5;178m\u001b[1mMean CV scores\u001b[0m\n",
      "\u001b[38;5;178m\u001b[1m----------------------------\u001b[0m\n",
      "\t\u001b[38;5;178m\u001b[1mscore           kappa        matthews         roc_auc             acc\u001b[0m\n",
      "\t\u001b[38;5;10m\u001b[1mtrain\u001b[0m  \u001b[38;5;10m\u001b[1m0.545\u001b[0m \u001b[38;5;150m\u001b[38;5;150m\u001b[38;5;150m\u001b[38;5;150m±\u001b[0m\u001b[0m\u001b[0m\u001b[0m \u001b[38;5;150m0.0426\u001b[0m  \u001b[38;5;150m0.612\u001b[0m \u001b[38;5;150m\u001b[38;5;150m\u001b[38;5;150m\u001b[38;5;150m±\u001b[0m\u001b[0m\u001b[0m\u001b[0m \u001b[38;5;150m0.0328\u001b[0m   \u001b[38;5;150m0.991\u001b[0m \u001b[38;5;150m\u001b[38;5;150m\u001b[38;5;150m\u001b[38;5;150m±\u001b[0m\u001b[0m\u001b[0m\u001b[0m \u001b[38;5;150m0.005\u001b[0m  \u001b[38;5;150m0.999\u001b[0m \u001b[38;5;150m\u001b[38;5;150m\u001b[38;5;150m\u001b[38;5;150m±\u001b[0m\u001b[0m\u001b[0m\u001b[0m \u001b[38;5;150m0.0001\u001b[0m\n",
      "\t\u001b[38;5;12m\u001b[1mvalid\u001b[0m  \u001b[38;5;12m\u001b[1m0.451\u001b[0m \u001b[38;5;105m\u001b[38;5;105m\u001b[38;5;105m\u001b[38;5;105m±\u001b[0m\u001b[0m\u001b[0m\u001b[0m \u001b[38;5;105m0.0692\u001b[0m  \u001b[38;5;105m0.539\u001b[0m \u001b[38;5;105m\u001b[38;5;105m\u001b[38;5;105m\u001b[38;5;105m±\u001b[0m\u001b[0m\u001b[0m\u001b[0m \u001b[38;5;105m0.0539\u001b[0m  \u001b[38;5;105m0.982\u001b[0m \u001b[38;5;105m\u001b[38;5;105m\u001b[38;5;105m\u001b[38;5;105m±\u001b[0m\u001b[0m\u001b[0m\u001b[0m \u001b[38;5;105m0.0075\u001b[0m  \u001b[38;5;105m0.999\u001b[0m \u001b[38;5;105m\u001b[38;5;105m\u001b[38;5;105m\u001b[38;5;105m±\u001b[0m\u001b[0m\u001b[0m\u001b[0m \u001b[38;5;105m0.0001\u001b[0m\n",
      "\t\u001b[38;5;1m\u001b[1mtest\u001b[0m   \u001b[38;5;1m\u001b[1m0.501\u001b[0m \u001b[38;5;218m\u001b[38;5;218m\u001b[38;5;218m\u001b[38;5;218m±\u001b[0m\u001b[0m\u001b[0m\u001b[0m \u001b[38;5;218m\u001b[38;5;218m0.0\u001b[0m253\u001b[0m  \u001b[38;5;218m0.578\u001b[0m \u001b[38;5;218m\u001b[38;5;218m\u001b[38;5;218m\u001b[38;5;218m±\u001b[0m\u001b[0m\u001b[0m\u001b[0m \u001b[38;5;218m\u001b[38;5;218m0.0\u001b[0m195\u001b[0m  \u001b[38;5;218m0.986\u001b[0m \u001b[38;5;218m\u001b[38;5;218m\u001b[38;5;218m\u001b[38;5;218m±\u001b[0m\u001b[0m\u001b[0m\u001b[0m \u001b[38;5;218m\u001b[38;5;218m0.0\u001b[0m029\u001b[0m     \u001b[38;5;218m0.999\u001b[0m \u001b[38;5;218m\u001b[38;5;218m\u001b[38;5;218m\u001b[38;5;218m±\u001b[0m\u001b[0m\u001b[0m\u001b[0m \u001b[38;5;218m0.0\u001b[0m\n",
      "\u001b[38;5;178m\u001b[1m----------------------------\u001b[0m\n",
      "\u001b[38;5;178m\u001b[1mBagged scores\u001b[0m\n",
      "\u001b[38;5;178m\u001b[1m----------------------------\u001b[0m\n",
      "\t\u001b[38;5;178m\u001b[1mscore  kappa\u001b[0m\n",
      "\t\u001b[38;5;12m\u001b[1mvalid\u001b[0m  \u001b[38;5;12m\u001b[1m0.467\u001b[0m\n",
      "\t\u001b[38;5;1m\u001b[1mtest\u001b[0m   \u001b[38;5;1m\u001b[1m0.521\u001b[0m\n"
     ]
    }
   ],
   "source": [
    "!ramp_test_submission --quick-test"
   ]
  },
  {
   "cell_type": "markdown",
   "metadata": {},
   "source": [
    "## Other models in the starting kit\n",
    "\n",
    "You can also keep several other submissions in your work directory [`submissions`](/tree/submissions) and test them using\n",
    "```\n",
    "ramp_test_submission --submission <submission_name>\n",
    "```\n",
    "where `<submission_name>` is the name of the folder in `submissions/`."
   ]
  },
  {
   "cell_type": "markdown",
   "metadata": {},
   "source": [
    "## Submitting to [ramp.studio](http://ramp.studio)\n",
    "\n",
    "If you are eligible, you can join the team at [ramp.studio](http://www.ramp.studio). If it is your first time using RAMP, [sign up](http://www.ramp.studio/sign_up), otherwise [log in](http://www.ramp.studio/login). \n",
    "\n",
    "Once your signup request is accepted, you can go to your [sandbox](http://www.ramp.studio/events/kaggle_seguro/sandbox) and copy-paste (or upload) [`feature_extractor.py`](/edit/submissions/starting_kit/feature_extractor.py) and [`classifier.py`](/edit/submissions/starting_kit/classifier.py) from `submissions/starting_kit`. Save it, rename it, then submit it. The submission is trained and tested on our backend in the same way as `ramp_test_submission` does it locally. While your submission is waiting in the queue and being trained, you can find it in the \"New submissions (pending training)\" table in [my submissions](http://www.ramp.studio/events/kaggle_seguro/my_submissions). Once it is trained, you get a mail, and your submission shows up on the [public leaderboard](http://www.ramp.studio/events/kaggle_seguro/leaderboard). \n",
    "If there is an error (despite having tested your submission locally with `ramp_test_submission`), it will show up in the \"Failed submissions\" table in [my submissions](http://www.ramp.studio/events/kaggle_seguro/my_submissions). You can click on the error to see part of the trace.\n",
    "\n",
    "After submission, do not forget to give credits to the previous submissions you reused or integrated into your submission.\n",
    "\n",
    "The data set we use at the backend is usually different from what you find in the starting kit, so the score may be different.\n",
    "\n",
    "The usual way to work with RAMP is to explore solutions, add feature transformations, select models, perhaps do some AutoML/hyperopt, etc., _locally_, and checking them with `ramp_test_submission`. The script prints mean cross-validation and test scores \n",
    "```\n",
    "----------------------------\n",
    "train ngini = 0.119 ± 0.007\n",
    "train auc = 0.559 ± 0.003\n",
    "train acc = 0.964 ± 0.0\n",
    "train nll = 0.156 ± 0.0\n",
    "valid ngini = 0.114 ± 0.005\n",
    "valid auc = 0.558 ± 0.002\n",
    "valid acc = 0.964 ± 0.0\n",
    "valid nll = 0.156 ± 0.0\n",
    "test ngini = 0.229 ± 0.256\n",
    "test auc = 0.307 ± 0.064\n",
    "test acc = 1.0 ± 0.0\n",
    "test nll = 0.037 ± 0.0\n",
    "```\n",
    "and bagged cross-validation and test scores\n",
    "```\n",
    "valid ngini = 0.167\n",
    "test ngini = -0.324\n",
    "```\n",
    "This latter combines the cross-validation models pointwise on the validation and test sets, and usually leads to a better score than the mean CV score. The RAMP [leaderboard](http://www.ramp.studio/events/kaggle_seguro/leaderboard) displays this score.\n",
    "\n",
    "The official score in this RAMP (the first score column after \"historical contributivity\" on the [leaderboard](http://www.ramp.studio/events/kaggle_seguro/leaderboard)) is normalized Gini (\"ngini\"), so the line that is relevant in the output of `ramp_test_submission` is `valid ngini = 0.167`. When the score is good enough, you can submit it at the RAMP."
   ]
  },
  {
   "cell_type": "markdown",
   "metadata": {},
   "source": [
    "## More information\n",
    "\n",
    "You can find more information in the [README](https://github.com/paris-saclay-cds/ramp-workflow/blob/master/README.md) of the [ramp-workflow library](https://github.com/paris-saclay-cds/ramp-workflow)."
   ]
  },
  {
   "cell_type": "markdown",
   "metadata": {},
   "source": [
    "## Contact\n",
    "\n",
    "Don't hesitate to [contact us](mailto:admin@ramp.studio?subject=kaggle seguro notebook)."
   ]
  }
 ],
 "metadata": {
  "anaconda-cloud": {},
  "kernelspec": {
   "display_name": "Python [Root]",
   "language": "python",
   "name": "Python [Root]"
  },
  "language_info": {
   "codemirror_mode": {
    "name": "ipython",
    "version": 3
   },
   "file_extension": ".py",
   "mimetype": "text/x-python",
   "name": "python",
   "nbconvert_exporter": "python",
   "pygments_lexer": "ipython3",
   "version": "3.5.2"
  }
 },
 "nbformat": 4,
 "nbformat_minor": 1
}
