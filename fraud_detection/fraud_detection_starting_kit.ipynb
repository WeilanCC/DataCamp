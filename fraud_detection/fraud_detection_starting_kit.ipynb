{
 "cells": [
  {
   "cell_type": "markdown",
   "metadata": {},
   "source": [
    "# [Paris Saclay Center for Data Science](http://www.datascience-paris-saclay.fr)\n",
    "\n",
    "\n",
    "## Fraud detection\n",
    "\n",
    "\n",
    "## Introduction\n"
   ]
  },
  {
   "cell_type": "markdown",
   "metadata": {},
   "source": [
    "### Requirements\n",
    "\n",
    "* numpy>=1.10.0  \n",
    "* matplotlib>=1.5.0 \n",
    "* pandas>=0.19.0  \n",
    "* scikit-learn>=0.19   "
   ]
  },
  {
   "cell_type": "code",
   "execution_count": 1,
   "metadata": {
    "collapsed": true
   },
   "outputs": [],
   "source": [
    "%matplotlib inline\n",
    "import os\n",
    "import glob\n",
    "import numpy as np\n",
    "from scipy import io\n",
    "import matplotlib.pyplot as plt\n",
    "import pandas as pd\n",
    "pd.options.display.max_columns = 999"
   ]
  },
  {
   "cell_type": "markdown",
   "metadata": {},
   "source": [
    "## Exploratory data analysis"
   ]
  },
  {
   "cell_type": "markdown",
   "metadata": {},
   "source": [
    "### Loading the data\n",
    "\n"
   ]
  },
  {
   "cell_type": "raw",
   "metadata": {},
   "source": [
    "train_filename = 'kaggle_data/train.csv'"
   ]
  },
  {
   "cell_type": "code",
   "execution_count": 2,
   "metadata": {
    "collapsed": true
   },
   "outputs": [],
   "source": [
    "train_filename = 'kaggle_data/train.csv'"
   ]
  },
  {
   "cell_type": "code",
   "execution_count": 3,
   "metadata": {
    "scrolled": true
   },
   "outputs": [],
   "source": [
    "data = pd.read_csv(train_filename)"
   ]
  },
  {
   "cell_type": "code",
   "execution_count": 4,
   "metadata": {},
   "outputs": [
    {
     "data": {
      "text/html": [
       "<div>\n",
       "<style scoped>\n",
       "    .dataframe tbody tr th:only-of-type {\n",
       "        vertical-align: middle;\n",
       "    }\n",
       "\n",
       "    .dataframe tbody tr th {\n",
       "        vertical-align: top;\n",
       "    }\n",
       "\n",
       "    .dataframe thead th {\n",
       "        text-align: right;\n",
       "    }\n",
       "</style>\n",
       "<table border=\"1\" class=\"dataframe\">\n",
       "  <thead>\n",
       "    <tr style=\"text-align: right;\">\n",
       "      <th></th>\n",
       "      <th>Unnamed: 0</th>\n",
       "      <th>step</th>\n",
       "      <th>type</th>\n",
       "      <th>amount</th>\n",
       "      <th>nameOrig</th>\n",
       "      <th>oldbalanceOrg</th>\n",
       "      <th>newbalanceOrig</th>\n",
       "      <th>nameDest</th>\n",
       "      <th>oldbalanceDest</th>\n",
       "      <th>newbalanceDest</th>\n",
       "      <th>isFraud</th>\n",
       "      <th>isFlaggedFraud</th>\n",
       "      <th>id</th>\n",
       "    </tr>\n",
       "  </thead>\n",
       "  <tbody>\n",
       "    <tr>\n",
       "      <th>0</th>\n",
       "      <td>0</td>\n",
       "      <td>159</td>\n",
       "      <td>TRANSFER</td>\n",
       "      <td>508065.97</td>\n",
       "      <td>C1186619847</td>\n",
       "      <td>55382.0</td>\n",
       "      <td>0.00</td>\n",
       "      <td>C1619338856</td>\n",
       "      <td>0.00</td>\n",
       "      <td>445736.37</td>\n",
       "      <td>0</td>\n",
       "      <td>0</td>\n",
       "      <td>2203111</td>\n",
       "    </tr>\n",
       "    <tr>\n",
       "      <th>1</th>\n",
       "      <td>1</td>\n",
       "      <td>186</td>\n",
       "      <td>CASH_OUT</td>\n",
       "      <td>764959.34</td>\n",
       "      <td>C1142873933</td>\n",
       "      <td>33889.7</td>\n",
       "      <td>0.00</td>\n",
       "      <td>C77635419</td>\n",
       "      <td>4472816.44</td>\n",
       "      <td>576139.27</td>\n",
       "      <td>0</td>\n",
       "      <td>0</td>\n",
       "      <td>3122004</td>\n",
       "    </tr>\n",
       "    <tr>\n",
       "      <th>2</th>\n",
       "      <td>2</td>\n",
       "      <td>133</td>\n",
       "      <td>CASH_IN</td>\n",
       "      <td>25942.29</td>\n",
       "      <td>C815920364</td>\n",
       "      <td>23231.0</td>\n",
       "      <td>0.00</td>\n",
       "      <td>C2078399026</td>\n",
       "      <td>0.00</td>\n",
       "      <td>712897.73</td>\n",
       "      <td>0</td>\n",
       "      <td>0</td>\n",
       "      <td>1526978</td>\n",
       "    </tr>\n",
       "    <tr>\n",
       "      <th>3</th>\n",
       "      <td>3</td>\n",
       "      <td>256</td>\n",
       "      <td>CASH_IN</td>\n",
       "      <td>18605.92</td>\n",
       "      <td>C2001021142</td>\n",
       "      <td>70935.0</td>\n",
       "      <td>10417.41</td>\n",
       "      <td>C1995151726</td>\n",
       "      <td>110581.86</td>\n",
       "      <td>2087829.65</td>\n",
       "      <td>0</td>\n",
       "      <td>0</td>\n",
       "      <td>1891882</td>\n",
       "    </tr>\n",
       "    <tr>\n",
       "      <th>4</th>\n",
       "      <td>4</td>\n",
       "      <td>371</td>\n",
       "      <td>CASH_OUT</td>\n",
       "      <td>8227.06</td>\n",
       "      <td>C13738776</td>\n",
       "      <td>10606.0</td>\n",
       "      <td>0.00</td>\n",
       "      <td>C834292828</td>\n",
       "      <td>290328.40</td>\n",
       "      <td>84236.25</td>\n",
       "      <td>0</td>\n",
       "      <td>0</td>\n",
       "      <td>4712676</td>\n",
       "    </tr>\n",
       "  </tbody>\n",
       "</table>\n",
       "</div>"
      ],
      "text/plain": [
       "   Unnamed: 0  step      type     amount     nameOrig  oldbalanceOrg  \\\n",
       "0           0   159  TRANSFER  508065.97  C1186619847        55382.0   \n",
       "1           1   186  CASH_OUT  764959.34  C1142873933        33889.7   \n",
       "2           2   133   CASH_IN   25942.29   C815920364        23231.0   \n",
       "3           3   256   CASH_IN   18605.92  C2001021142        70935.0   \n",
       "4           4   371  CASH_OUT    8227.06    C13738776        10606.0   \n",
       "\n",
       "   newbalanceOrig     nameDest  oldbalanceDest  newbalanceDest  isFraud  \\\n",
       "0            0.00  C1619338856            0.00       445736.37        0   \n",
       "1            0.00    C77635419      4472816.44       576139.27        0   \n",
       "2            0.00  C2078399026            0.00       712897.73        0   \n",
       "3        10417.41  C1995151726       110581.86      2087829.65        0   \n",
       "4            0.00   C834292828       290328.40        84236.25        0   \n",
       "\n",
       "   isFlaggedFraud       id  \n",
       "0               0  2203111  \n",
       "1               0  3122004  \n",
       "2               0  1526978  \n",
       "3               0  1891882  \n",
       "4               0  4712676  "
      ]
     },
     "execution_count": 4,
     "metadata": {},
     "output_type": "execute_result"
    }
   ],
   "source": [
    "data.head()"
   ]
  },
  {
   "cell_type": "code",
   "execution_count": 5,
   "metadata": {},
   "outputs": [
    {
     "data": {
      "text/html": [
       "<div>\n",
       "<style scoped>\n",
       "    .dataframe tbody tr th:only-of-type {\n",
       "        vertical-align: middle;\n",
       "    }\n",
       "\n",
       "    .dataframe tbody tr th {\n",
       "        vertical-align: top;\n",
       "    }\n",
       "\n",
       "    .dataframe thead th {\n",
       "        text-align: right;\n",
       "    }\n",
       "</style>\n",
       "<table border=\"1\" class=\"dataframe\">\n",
       "  <thead>\n",
       "    <tr style=\"text-align: right;\">\n",
       "      <th></th>\n",
       "      <th>Unnamed: 0</th>\n",
       "      <th>step</th>\n",
       "      <th>amount</th>\n",
       "      <th>oldbalanceOrg</th>\n",
       "      <th>newbalanceOrig</th>\n",
       "      <th>oldbalanceDest</th>\n",
       "      <th>newbalanceDest</th>\n",
       "      <th>isFraud</th>\n",
       "      <th>isFlaggedFraud</th>\n",
       "      <th>id</th>\n",
       "    </tr>\n",
       "  </thead>\n",
       "  <tbody>\n",
       "    <tr>\n",
       "      <th>count</th>\n",
       "      <td>5.090096e+06</td>\n",
       "      <td>5.090096e+06</td>\n",
       "      <td>5.090096e+06</td>\n",
       "      <td>5.090096e+06</td>\n",
       "      <td>5.090096e+06</td>\n",
       "      <td>5.090096e+06</td>\n",
       "      <td>5.090096e+06</td>\n",
       "      <td>5.090096e+06</td>\n",
       "      <td>5.090096e+06</td>\n",
       "      <td>5.090096e+06</td>\n",
       "    </tr>\n",
       "    <tr>\n",
       "      <th>mean</th>\n",
       "      <td>2.545048e+06</td>\n",
       "      <td>2.433761e+02</td>\n",
       "      <td>1.798608e+05</td>\n",
       "      <td>8.340196e+05</td>\n",
       "      <td>8.548747e+05</td>\n",
       "      <td>1.101302e+06</td>\n",
       "      <td>1.224133e+06</td>\n",
       "      <td>1.293099e-03</td>\n",
       "      <td>2.161059e-06</td>\n",
       "      <td>3.181255e+06</td>\n",
       "    </tr>\n",
       "    <tr>\n",
       "      <th>std</th>\n",
       "      <td>1.469384e+06</td>\n",
       "      <td>1.423136e+02</td>\n",
       "      <td>6.051691e+05</td>\n",
       "      <td>2.889399e+06</td>\n",
       "      <td>2.922559e+06</td>\n",
       "      <td>3.410980e+06</td>\n",
       "      <td>3.653103e+06</td>\n",
       "      <td>3.593644e-02</td>\n",
       "      <td>1.470053e-03</td>\n",
       "      <td>1.836439e+06</td>\n",
       "    </tr>\n",
       "    <tr>\n",
       "      <th>min</th>\n",
       "      <td>0.000000e+00</td>\n",
       "      <td>1.000000e+00</td>\n",
       "      <td>0.000000e+00</td>\n",
       "      <td>0.000000e+00</td>\n",
       "      <td>0.000000e+00</td>\n",
       "      <td>0.000000e+00</td>\n",
       "      <td>0.000000e+00</td>\n",
       "      <td>0.000000e+00</td>\n",
       "      <td>0.000000e+00</td>\n",
       "      <td>1.000000e+00</td>\n",
       "    </tr>\n",
       "    <tr>\n",
       "      <th>25%</th>\n",
       "      <td>1.272524e+06</td>\n",
       "      <td>1.560000e+02</td>\n",
       "      <td>1.336643e+04</td>\n",
       "      <td>0.000000e+00</td>\n",
       "      <td>0.000000e+00</td>\n",
       "      <td>0.000000e+00</td>\n",
       "      <td>0.000000e+00</td>\n",
       "      <td>0.000000e+00</td>\n",
       "      <td>0.000000e+00</td>\n",
       "      <td>1.590650e+06</td>\n",
       "    </tr>\n",
       "    <tr>\n",
       "      <th>50%</th>\n",
       "      <td>2.545048e+06</td>\n",
       "      <td>2.390000e+02</td>\n",
       "      <td>7.485047e+04</td>\n",
       "      <td>1.423600e+04</td>\n",
       "      <td>0.000000e+00</td>\n",
       "      <td>1.326190e+05</td>\n",
       "      <td>2.143826e+05</td>\n",
       "      <td>0.000000e+00</td>\n",
       "      <td>0.000000e+00</td>\n",
       "      <td>3.181420e+06</td>\n",
       "    </tr>\n",
       "    <tr>\n",
       "      <th>75%</th>\n",
       "      <td>3.817571e+06</td>\n",
       "      <td>3.350000e+02</td>\n",
       "      <td>2.086859e+05</td>\n",
       "      <td>1.073340e+05</td>\n",
       "      <td>1.444291e+05</td>\n",
       "      <td>9.435374e+05</td>\n",
       "      <td>1.110820e+06</td>\n",
       "      <td>0.000000e+00</td>\n",
       "      <td>0.000000e+00</td>\n",
       "      <td>4.771541e+06</td>\n",
       "    </tr>\n",
       "    <tr>\n",
       "      <th>max</th>\n",
       "      <td>5.090095e+06</td>\n",
       "      <td>7.430000e+02</td>\n",
       "      <td>9.244552e+07</td>\n",
       "      <td>5.958504e+07</td>\n",
       "      <td>4.958504e+07</td>\n",
       "      <td>3.560159e+08</td>\n",
       "      <td>3.561793e+08</td>\n",
       "      <td>1.000000e+00</td>\n",
       "      <td>1.000000e+00</td>\n",
       "      <td>6.362620e+06</td>\n",
       "    </tr>\n",
       "  </tbody>\n",
       "</table>\n",
       "</div>"
      ],
      "text/plain": [
       "         Unnamed: 0          step        amount  oldbalanceOrg  \\\n",
       "count  5.090096e+06  5.090096e+06  5.090096e+06   5.090096e+06   \n",
       "mean   2.545048e+06  2.433761e+02  1.798608e+05   8.340196e+05   \n",
       "std    1.469384e+06  1.423136e+02  6.051691e+05   2.889399e+06   \n",
       "min    0.000000e+00  1.000000e+00  0.000000e+00   0.000000e+00   \n",
       "25%    1.272524e+06  1.560000e+02  1.336643e+04   0.000000e+00   \n",
       "50%    2.545048e+06  2.390000e+02  7.485047e+04   1.423600e+04   \n",
       "75%    3.817571e+06  3.350000e+02  2.086859e+05   1.073340e+05   \n",
       "max    5.090095e+06  7.430000e+02  9.244552e+07   5.958504e+07   \n",
       "\n",
       "       newbalanceOrig  oldbalanceDest  newbalanceDest       isFraud  \\\n",
       "count    5.090096e+06    5.090096e+06    5.090096e+06  5.090096e+06   \n",
       "mean     8.548747e+05    1.101302e+06    1.224133e+06  1.293099e-03   \n",
       "std      2.922559e+06    3.410980e+06    3.653103e+06  3.593644e-02   \n",
       "min      0.000000e+00    0.000000e+00    0.000000e+00  0.000000e+00   \n",
       "25%      0.000000e+00    0.000000e+00    0.000000e+00  0.000000e+00   \n",
       "50%      0.000000e+00    1.326190e+05    2.143826e+05  0.000000e+00   \n",
       "75%      1.444291e+05    9.435374e+05    1.110820e+06  0.000000e+00   \n",
       "max      4.958504e+07    3.560159e+08    3.561793e+08  1.000000e+00   \n",
       "\n",
       "       isFlaggedFraud            id  \n",
       "count    5.090096e+06  5.090096e+06  \n",
       "mean     2.161059e-06  3.181255e+06  \n",
       "std      1.470053e-03  1.836439e+06  \n",
       "min      0.000000e+00  1.000000e+00  \n",
       "25%      0.000000e+00  1.590650e+06  \n",
       "50%      0.000000e+00  3.181420e+06  \n",
       "75%      0.000000e+00  4.771541e+06  \n",
       "max      1.000000e+00  6.362620e+06  "
      ]
     },
     "execution_count": 5,
     "metadata": {},
     "output_type": "execute_result"
    }
   ],
   "source": [
    "data.describe()"
   ]
  },
  {
   "cell_type": "code",
   "execution_count": 6,
   "metadata": {},
   "outputs": [
    {
     "name": "stdout",
     "output_type": "stream",
     "text": [
      "<class 'pandas.core.frame.DataFrame'>\n",
      "RangeIndex: 5090096 entries, 0 to 5090095\n",
      "Data columns (total 13 columns):\n",
      "Unnamed: 0        int64\n",
      "step              int64\n",
      "type              object\n",
      "amount            float64\n",
      "nameOrig          object\n",
      "oldbalanceOrg     float64\n",
      "newbalanceOrig    float64\n",
      "nameDest          object\n",
      "oldbalanceDest    float64\n",
      "newbalanceDest    float64\n",
      "isFraud           int64\n",
      "isFlaggedFraud    int64\n",
      "id                int64\n",
      "dtypes: float64(5), int64(5), object(3)\n",
      "memory usage: 504.8+ MB\n"
     ]
    }
   ],
   "source": [
    "data.info()"
   ]
  },
  {
   "cell_type": "code",
   "execution_count": 7,
   "metadata": {},
   "outputs": [
    {
     "data": {
      "text/plain": [
       "Unnamed: 0        5090096\n",
       "step              5090096\n",
       "type              5090096\n",
       "amount            5090096\n",
       "nameOrig          5090096\n",
       "oldbalanceOrg     5090096\n",
       "newbalanceOrig    5090096\n",
       "nameDest          5090096\n",
       "oldbalanceDest    5090096\n",
       "newbalanceDest    5090096\n",
       "isFraud           5090096\n",
       "isFlaggedFraud    5090096\n",
       "id                5090096\n",
       "dtype: int64"
      ]
     },
     "execution_count": 7,
     "metadata": {},
     "output_type": "execute_result"
    }
   ],
   "source": [
    "data.count()"
   ]
  },
  {
   "cell_type": "code",
   "execution_count": 8,
   "metadata": {},
   "outputs": [
    {
     "data": {
      "text/plain": [
       "array([0, 1])"
      ]
     },
     "execution_count": 8,
     "metadata": {},
     "output_type": "execute_result"
    }
   ],
   "source": [
    "np.unique(data['isFraud'])"
   ]
  },
  {
   "cell_type": "code",
   "execution_count": 9,
   "metadata": {},
   "outputs": [
    {
     "data": {
      "text/html": [
       "<div>\n",
       "<style scoped>\n",
       "    .dataframe tbody tr th:only-of-type {\n",
       "        vertical-align: middle;\n",
       "    }\n",
       "\n",
       "    .dataframe tbody tr th {\n",
       "        vertical-align: top;\n",
       "    }\n",
       "\n",
       "    .dataframe thead th {\n",
       "        text-align: right;\n",
       "    }\n",
       "</style>\n",
       "<table border=\"1\" class=\"dataframe\">\n",
       "  <thead>\n",
       "    <tr style=\"text-align: right;\">\n",
       "      <th></th>\n",
       "      <th>id</th>\n",
       "    </tr>\n",
       "    <tr>\n",
       "      <th>isFraud</th>\n",
       "      <th></th>\n",
       "    </tr>\n",
       "  </thead>\n",
       "  <tbody>\n",
       "    <tr>\n",
       "      <th>0</th>\n",
       "      <td>5083514</td>\n",
       "    </tr>\n",
       "    <tr>\n",
       "      <th>1</th>\n",
       "      <td>6582</td>\n",
       "    </tr>\n",
       "  </tbody>\n",
       "</table>\n",
       "</div>"
      ],
      "text/plain": [
       "              id\n",
       "isFraud         \n",
       "0        5083514\n",
       "1           6582"
      ]
     },
     "execution_count": 9,
     "metadata": {},
     "output_type": "execute_result"
    }
   ],
   "source": [
    "data.groupby('isFraud').count()[['id']]"
   ]
  },
  {
   "cell_type": "markdown",
   "metadata": {},
   "source": [
    "## The pipeline\n",
    "\n",
    "For submitting at the [RAMP site](http://ramp.studio), you will have to write two classes, saved in two different files,\n",
    "* the class `FeatureExtractor`, which will be used to extract features for classification from the dataset and produce a numpy array of size (number of samples $\\times$ number of features), and  \n",
    "* the class `Classifier` to predict the target."
   ]
  },
  {
   "cell_type": "markdown",
   "metadata": {},
   "source": [
    "### Feature extractor"
   ]
  },
  {
   "cell_type": "markdown",
   "metadata": {},
   "source": [
    "The feature extractor implements a `transform` member function. It is saved in the file [`submissions/starting_kit/feature_extractor.py`](/edit/submissions/starting_kit/feature_extractor.py). It receives the pandas dataframe `X_df` defined at the beginning of the notebook. It should produce a numpy array representing the extracted features, which will then be used for the classification.  \n",
    "\n",
    "Note that the following code cells are *not* executed in the notebook. The notebook saves their contents in the file specified in the first line of the cell, so you can edit your submission before running the local test below and submitting it at the RAMP site."
   ]
  },
  {
   "cell_type": "code",
   "execution_count": 10,
   "metadata": {},
   "outputs": [
    {
     "name": "stdout",
     "output_type": "stream",
     "text": [
      "Overwriting submissions/starting_kit/feature_extractor.py\n"
     ]
    }
   ],
   "source": [
    "%%file submissions/starting_kit/feature_extractor.py\n",
    "class FeatureExtractor():\n",
    "    def __init__(self):\n",
    "        pass\n",
    "\n",
    "    def fit(self, X_df, y):\n",
    "        pass\n",
    "\n",
    "    def transform(self, X_df):\n",
    "        X_df = X_df.drop(['nameDest','nameOrig','type'],axis = 1)\n",
    "        return X_df.values\n",
    "\n"
   ]
  },
  {
   "cell_type": "markdown",
   "metadata": {},
   "source": [
    "### Classifier"
   ]
  },
  {
   "cell_type": "markdown",
   "metadata": {},
   "source": [
    "The classifier follows a classical scikit-learn classifier template. It should be saved in the file [`submissions/starting_kit/classifier.py`](/edit/submissions/starting_kit/classifier.py). In its simplest form it takes a scikit-learn pipeline, assigns it to `self.clf` in `__init__`, then calls its `fit` and `predict_proba` functions in the corresponding member funtions."
   ]
  },
  {
   "cell_type": "code",
   "execution_count": 11,
   "metadata": {},
   "outputs": [
    {
     "name": "stdout",
     "output_type": "stream",
     "text": [
      "Overwriting submissions/starting_kit/classifier.py\n"
     ]
    }
   ],
   "source": [
    "%%file submissions/starting_kit/classifier.py\n",
    "from sklearn.base import BaseEstimator\n",
    "from sklearn.ensemble import RandomForestClassifier\n",
    "\n",
    "\n",
    "class Classifier(BaseEstimator):\n",
    "    def __init__(self):\n",
    "        pass\n",
    "\n",
    "    def fit(self, X, y):\n",
    "        self.clf = RandomForestClassifier(\n",
    "            n_estimators=2, max_leaf_nodes=2, random_state=61)\n",
    "        self.clf.fit(X, y)\n",
    "\n",
    "    def predict(self, X):\n",
    "        return self.clf.predict(X)\n",
    "\n",
    "    def predict_proba(self, X):\n",
    "        return self.clf.predict_proba(X)\n",
    "\n"
   ]
  },
  {
   "cell_type": "markdown",
   "metadata": {},
   "source": [
    "## Local testing (before submission)\n",
    "\n",
    "It is <b><span style=\"color:red\">important that you test your submission files before submitting them</span></b>. For this we provide a unit test. Note that the test runs on your files in [`submissions/starting_kit`](/tree/submissions/starting_kit), not on the classes defined in the cells of this notebook.\n",
    "\n",
    "First `pip install ramp-workflow` or install it from the [github repo](https://github.com/paris-saclay-cds/ramp-workflow). Make sure that the python files `classifier.py` and `feature_extractor.py` are in the  [`submissions/starting_kit`](/tree/submissions/starting_kit) folder, and the data `train.csv` and `test.csv` are in [`data`](/tree/data). Then run\n",
    "\n",
    "```ramp_test_submission```\n",
    "\n",
    "If it runs and print training and test errors on each fold, then you can submit the code.\n"
   ]
  },
  {
   "cell_type": "code",
   "execution_count": 25,
   "metadata": {
    "scrolled": true
   },
   "outputs": [
    {
     "name": "stdout",
     "output_type": "stream",
     "text": [
      "\u001b[38;5;178m\u001b[1mTesting Fraud detection\u001b[0m\n",
      "\u001b[38;5;178m\u001b[1mReading train and test files from ./data ...\u001b[0m\n",
      "\u001b[38;5;178m\u001b[1mReading cv ...\u001b[0m\n",
      "\u001b[38;5;178m\u001b[1mTraining ./submissions/starting_kit ...\u001b[0m\n",
      "\u001b[38;5;178m\u001b[1mCV fold 0\u001b[0m\n",
      "\t\u001b[38;5;178m\u001b[1mscore  kappa  matthews  roc_auc    acc\u001b[0m\n",
      "\t\u001b[38;5;10m\u001b[1mtrain\u001b[0m    \u001b[38;5;10m\u001b[1m\u001b[38;5;150m0.0\u001b[0m\u001b[0m       \u001b[38;5;10m\u001b[1m\u001b[38;5;150m0.0\u001b[0m\u001b[0m    \u001b[38;5;150m0.510\u001b[0m  \u001b[38;5;150m0.999\u001b[0m\n",
      "\t\u001b[38;5;12m\u001b[1mvalid\u001b[0m    \u001b[38;5;12m\u001b[1m\u001b[38;5;105m0.0\u001b[0m\u001b[0m       \u001b[38;5;12m\u001b[1m\u001b[38;5;105m0.0\u001b[0m\u001b[0m    \u001b[38;5;105m0.496\u001b[0m  \u001b[38;5;105m0.999\u001b[0m\n",
      "\t\u001b[38;5;1m\u001b[1mtest\u001b[0m     \u001b[38;5;1m\u001b[1m\u001b[38;5;218m0.0\u001b[0m\u001b[0m       \u001b[38;5;1m\u001b[1m\u001b[38;5;218m0.0\u001b[0m\u001b[0m    \u001b[38;5;218m0.497\u001b[0m  \u001b[38;5;218m1.000\u001b[0m\n",
      "\u001b[38;5;178m\u001b[1mCV fold 1\u001b[0m\n",
      "\t\u001b[38;5;178m\u001b[1mscore  kappa  matthews  roc_auc    acc\u001b[0m\n",
      "\t\u001b[38;5;10m\u001b[1mtrain\u001b[0m    \u001b[38;5;10m\u001b[1m\u001b[38;5;150m0.0\u001b[0m\u001b[0m       \u001b[38;5;10m\u001b[1m\u001b[38;5;150m0.0\u001b[0m\u001b[0m    \u001b[38;5;150m0.504\u001b[0m  \u001b[38;5;150m0.999\u001b[0m\n",
      "\t\u001b[38;5;12m\u001b[1mvalid\u001b[0m    \u001b[38;5;12m\u001b[1m\u001b[38;5;105m0.0\u001b[0m\u001b[0m       \u001b[38;5;12m\u001b[1m\u001b[38;5;105m0.0\u001b[0m\u001b[0m    \u001b[38;5;105m0.500\u001b[0m  \u001b[38;5;105m0.999\u001b[0m\n",
      "\t\u001b[38;5;1m\u001b[1mtest\u001b[0m     \u001b[38;5;1m\u001b[1m\u001b[38;5;218m0.0\u001b[0m\u001b[0m       \u001b[38;5;1m\u001b[1m\u001b[38;5;218m0.0\u001b[0m\u001b[0m    \u001b[38;5;218m0.499\u001b[0m  \u001b[38;5;218m1.000\u001b[0m\n",
      "\u001b[38;5;178m\u001b[1mCV fold 2\u001b[0m\n",
      "\t\u001b[38;5;178m\u001b[1mscore  kappa  matthews  roc_auc    acc\u001b[0m\n",
      "\t\u001b[38;5;10m\u001b[1mtrain\u001b[0m    \u001b[38;5;10m\u001b[1m\u001b[38;5;150m0.0\u001b[0m\u001b[0m       \u001b[38;5;10m\u001b[1m\u001b[38;5;150m0.0\u001b[0m\u001b[0m    \u001b[38;5;150m0.515\u001b[0m  \u001b[38;5;150m0.999\u001b[0m\n",
      "\t\u001b[38;5;12m\u001b[1mvalid\u001b[0m    \u001b[38;5;12m\u001b[1m\u001b[38;5;105m0.0\u001b[0m\u001b[0m       \u001b[38;5;12m\u001b[1m\u001b[38;5;105m0.0\u001b[0m\u001b[0m    \u001b[38;5;105m0.504\u001b[0m  \u001b[38;5;105m0.999\u001b[0m\n",
      "\t\u001b[38;5;1m\u001b[1mtest\u001b[0m     \u001b[38;5;1m\u001b[1m\u001b[38;5;218m0.0\u001b[0m\u001b[0m       \u001b[38;5;1m\u001b[1m\u001b[38;5;218m0.0\u001b[0m\u001b[0m    \u001b[38;5;218m0.676\u001b[0m  \u001b[38;5;218m1.000\u001b[0m\n",
      "\u001b[38;5;178m\u001b[1mCV fold 3\u001b[0m\n",
      "\t\u001b[38;5;178m\u001b[1mscore  kappa  matthews  roc_auc    acc\u001b[0m\n",
      "\t\u001b[38;5;10m\u001b[1mtrain\u001b[0m    \u001b[38;5;10m\u001b[1m\u001b[38;5;150m0.0\u001b[0m\u001b[0m       \u001b[38;5;10m\u001b[1m\u001b[38;5;150m0.0\u001b[0m\u001b[0m    \u001b[38;5;150m0.512\u001b[0m  \u001b[38;5;150m0.999\u001b[0m\n",
      "\t\u001b[38;5;12m\u001b[1mvalid\u001b[0m    \u001b[38;5;12m\u001b[1m\u001b[38;5;105m0.0\u001b[0m\u001b[0m       \u001b[38;5;12m\u001b[1m\u001b[38;5;105m0.0\u001b[0m\u001b[0m    \u001b[38;5;105m0.499\u001b[0m  \u001b[38;5;105m0.999\u001b[0m\n",
      "\t\u001b[38;5;1m\u001b[1mtest\u001b[0m     \u001b[38;5;1m\u001b[1m\u001b[38;5;218m0.0\u001b[0m\u001b[0m       \u001b[38;5;1m\u001b[1m\u001b[38;5;218m0.0\u001b[0m\u001b[0m    \u001b[38;5;218m0.534\u001b[0m  \u001b[38;5;218m1.000\u001b[0m\n",
      "\u001b[38;5;178m\u001b[1mCV fold 4\u001b[0m\n",
      "\t\u001b[38;5;178m\u001b[1mscore  kappa  matthews  roc_auc    acc\u001b[0m\n",
      "\t\u001b[38;5;10m\u001b[1mtrain\u001b[0m    \u001b[38;5;10m\u001b[1m\u001b[38;5;150m0.0\u001b[0m\u001b[0m       \u001b[38;5;10m\u001b[1m\u001b[38;5;150m0.0\u001b[0m\u001b[0m    \u001b[38;5;150m0.514\u001b[0m  \u001b[38;5;150m0.999\u001b[0m\n",
      "\t\u001b[38;5;12m\u001b[1mvalid\u001b[0m    \u001b[38;5;12m\u001b[1m\u001b[38;5;105m0.0\u001b[0m\u001b[0m       \u001b[38;5;12m\u001b[1m\u001b[38;5;105m0.0\u001b[0m\u001b[0m    \u001b[38;5;105m0.502\u001b[0m  \u001b[38;5;105m0.999\u001b[0m\n",
      "\t\u001b[38;5;1m\u001b[1mtest\u001b[0m     \u001b[38;5;1m\u001b[1m\u001b[38;5;218m0.0\u001b[0m\u001b[0m       \u001b[38;5;1m\u001b[1m\u001b[38;5;218m0.0\u001b[0m\u001b[0m    \u001b[38;5;218m0.530\u001b[0m  \u001b[38;5;218m1.000\u001b[0m\n",
      "\u001b[38;5;178m\u001b[1mCV fold 5\u001b[0m\n",
      "\t\u001b[38;5;178m\u001b[1mscore  kappa  matthews  roc_auc    acc\u001b[0m\n",
      "\t\u001b[38;5;10m\u001b[1mtrain\u001b[0m    \u001b[38;5;10m\u001b[1m\u001b[38;5;150m0.0\u001b[0m\u001b[0m       \u001b[38;5;10m\u001b[1m\u001b[38;5;150m0.0\u001b[0m\u001b[0m    \u001b[38;5;150m0.510\u001b[0m  \u001b[38;5;150m0.999\u001b[0m\n",
      "\t\u001b[38;5;12m\u001b[1mvalid\u001b[0m    \u001b[38;5;12m\u001b[1m\u001b[38;5;105m0.0\u001b[0m\u001b[0m       \u001b[38;5;12m\u001b[1m\u001b[38;5;105m0.0\u001b[0m\u001b[0m    \u001b[38;5;105m0.505\u001b[0m  \u001b[38;5;105m0.999\u001b[0m\n",
      "\t\u001b[38;5;1m\u001b[1mtest\u001b[0m     \u001b[38;5;1m\u001b[1m\u001b[38;5;218m0.0\u001b[0m\u001b[0m       \u001b[38;5;1m\u001b[1m\u001b[38;5;218m0.0\u001b[0m\u001b[0m    \u001b[38;5;218m0.655\u001b[0m  \u001b[38;5;218m1.000\u001b[0m\n",
      "\u001b[38;5;178m\u001b[1mCV fold 6\u001b[0m\n",
      "\t\u001b[38;5;178m\u001b[1mscore  kappa  matthews  roc_auc    acc\u001b[0m\n",
      "\t\u001b[38;5;10m\u001b[1mtrain\u001b[0m    \u001b[38;5;10m\u001b[1m\u001b[38;5;150m0.0\u001b[0m\u001b[0m       \u001b[38;5;10m\u001b[1m\u001b[38;5;150m0.0\u001b[0m\u001b[0m    \u001b[38;5;150m0.502\u001b[0m  \u001b[38;5;150m0.999\u001b[0m\n",
      "\t\u001b[38;5;12m\u001b[1mvalid\u001b[0m    \u001b[38;5;12m\u001b[1m\u001b[38;5;105m0.0\u001b[0m\u001b[0m       \u001b[38;5;12m\u001b[1m\u001b[38;5;105m0.0\u001b[0m\u001b[0m    \u001b[38;5;105m0.498\u001b[0m  \u001b[38;5;105m0.999\u001b[0m\n",
      "\t\u001b[38;5;1m\u001b[1mtest\u001b[0m     \u001b[38;5;1m\u001b[1m\u001b[38;5;218m0.0\u001b[0m\u001b[0m       \u001b[38;5;1m\u001b[1m\u001b[38;5;218m0.0\u001b[0m\u001b[0m    \u001b[38;5;218m0.499\u001b[0m  \u001b[38;5;218m1.000\u001b[0m\n",
      "\u001b[38;5;178m\u001b[1mCV fold 7\u001b[0m\n",
      "\t\u001b[38;5;178m\u001b[1mscore  kappa  matthews  roc_auc    acc\u001b[0m\n",
      "\t\u001b[38;5;10m\u001b[1mtrain\u001b[0m    \u001b[38;5;10m\u001b[1m\u001b[38;5;150m0.0\u001b[0m\u001b[0m       \u001b[38;5;10m\u001b[1m\u001b[38;5;150m0.0\u001b[0m\u001b[0m    \u001b[38;5;150m0.503\u001b[0m  \u001b[38;5;150m0.999\u001b[0m\n",
      "\t\u001b[38;5;12m\u001b[1mvalid\u001b[0m    \u001b[38;5;12m\u001b[1m\u001b[38;5;105m0.0\u001b[0m\u001b[0m       \u001b[38;5;12m\u001b[1m\u001b[38;5;105m0.0\u001b[0m\u001b[0m    \u001b[38;5;105m0.494\u001b[0m  \u001b[38;5;105m0.999\u001b[0m\n",
      "\t\u001b[38;5;1m\u001b[1mtest\u001b[0m     \u001b[38;5;1m\u001b[1m\u001b[38;5;218m0.0\u001b[0m\u001b[0m       \u001b[38;5;1m\u001b[1m\u001b[38;5;218m0.0\u001b[0m\u001b[0m    \u001b[38;5;218m0.356\u001b[0m  \u001b[38;5;218m1.000\u001b[0m\n",
      "\u001b[38;5;178m\u001b[1m----------------------------\u001b[0m\n",
      "\u001b[38;5;178m\u001b[1mMean CV scores\u001b[0m\n",
      "\u001b[38;5;178m\u001b[1m----------------------------\u001b[0m\n",
      "\t\u001b[38;5;178m\u001b[1mscore      kappa   matthews         roc_auc          acc\u001b[0m\n",
      "\t\u001b[38;5;10m\u001b[1mtrain\u001b[0m  \u001b[38;5;10m\u001b[1m\u001b[38;5;150m\u001b[38;5;150m\u001b[38;5;150m\u001b[38;5;150m0.0\u001b[0m\u001b[0m\u001b[0m\u001b[0m\u001b[0m \u001b[38;5;150m\u001b[38;5;150m\u001b[38;5;150m\u001b[38;5;150m±\u001b[0m\u001b[0m\u001b[0m\u001b[0m \u001b[38;5;10m\u001b[1m\u001b[38;5;150m\u001b[38;5;150m\u001b[38;5;150m\u001b[38;5;150m0.0\u001b[0m\u001b[0m\u001b[0m\u001b[0m\u001b[0m  \u001b[38;5;10m\u001b[1m\u001b[38;5;150m\u001b[38;5;150m\u001b[38;5;150m\u001b[38;5;150m0.0\u001b[0m\u001b[0m\u001b[0m\u001b[0m\u001b[0m \u001b[38;5;150m\u001b[38;5;150m\u001b[38;5;150m\u001b[38;5;150m±\u001b[0m\u001b[0m\u001b[0m\u001b[0m \u001b[38;5;10m\u001b[1m\u001b[38;5;150m\u001b[38;5;150m\u001b[38;5;150m\u001b[38;5;150m0.0\u001b[0m\u001b[0m\u001b[0m\u001b[0m\u001b[0m  \u001b[38;5;150m0.509\u001b[0m \u001b[38;5;150m\u001b[38;5;150m\u001b[38;5;150m\u001b[38;5;150m±\u001b[0m\u001b[0m\u001b[0m\u001b[0m \u001b[38;5;10m\u001b[1m\u001b[38;5;150m\u001b[38;5;150m\u001b[38;5;150m\u001b[38;5;150m0.0\u001b[0m\u001b[0m\u001b[0m\u001b[0m\u001b[0m047  \u001b[38;5;150m0.999\u001b[0m \u001b[38;5;150m\u001b[38;5;150m\u001b[38;5;150m\u001b[38;5;150m±\u001b[0m\u001b[0m\u001b[0m\u001b[0m \u001b[38;5;10m\u001b[1m\u001b[38;5;150m\u001b[38;5;150m\u001b[38;5;150m\u001b[38;5;150m0.0\u001b[0m\u001b[0m\u001b[0m\u001b[0m\u001b[0m\n",
      "\t\u001b[38;5;12m\u001b[1mvalid\u001b[0m  \u001b[38;5;12m\u001b[1m\u001b[38;5;105m\u001b[38;5;105m\u001b[38;5;105m\u001b[38;5;105m0.0\u001b[0m\u001b[0m\u001b[0m\u001b[0m\u001b[0m \u001b[38;5;105m\u001b[38;5;105m\u001b[38;5;105m\u001b[38;5;105m±\u001b[0m\u001b[0m\u001b[0m\u001b[0m \u001b[38;5;12m\u001b[1m\u001b[38;5;105m\u001b[38;5;105m\u001b[38;5;105m\u001b[38;5;105m0.0\u001b[0m\u001b[0m\u001b[0m\u001b[0m\u001b[0m  \u001b[38;5;12m\u001b[1m\u001b[38;5;105m\u001b[38;5;105m\u001b[38;5;105m\u001b[38;5;105m0.0\u001b[0m\u001b[0m\u001b[0m\u001b[0m\u001b[0m \u001b[38;5;105m\u001b[38;5;105m\u001b[38;5;105m\u001b[38;5;105m±\u001b[0m\u001b[0m\u001b[0m\u001b[0m \u001b[38;5;12m\u001b[1m\u001b[38;5;105m\u001b[38;5;105m\u001b[38;5;105m\u001b[38;5;105m0.0\u001b[0m\u001b[0m\u001b[0m\u001b[0m\u001b[0m    \u001b[38;5;105m0.5\u001b[0m \u001b[38;5;105m\u001b[38;5;105m\u001b[38;5;105m\u001b[38;5;105m±\u001b[0m\u001b[0m\u001b[0m\u001b[0m \u001b[38;5;12m\u001b[1m\u001b[38;5;105m\u001b[38;5;105m\u001b[38;5;105m\u001b[38;5;105m0.0\u001b[0m\u001b[0m\u001b[0m\u001b[0m\u001b[0m035  \u001b[38;5;105m0.999\u001b[0m \u001b[38;5;105m\u001b[38;5;105m\u001b[38;5;105m\u001b[38;5;105m±\u001b[0m\u001b[0m\u001b[0m\u001b[0m \u001b[38;5;12m\u001b[1m\u001b[38;5;105m\u001b[38;5;105m\u001b[38;5;105m\u001b[38;5;105m0.0\u001b[0m\u001b[0m\u001b[0m\u001b[0m\u001b[0m\n",
      "\t\u001b[38;5;1m\u001b[1mtest\u001b[0m   \u001b[38;5;1m\u001b[1m\u001b[38;5;218m\u001b[38;5;218m\u001b[38;5;218m\u001b[38;5;218m0.0\u001b[0m\u001b[0m\u001b[0m\u001b[0m\u001b[0m \u001b[38;5;218m\u001b[38;5;218m\u001b[38;5;218m\u001b[38;5;218m±\u001b[0m\u001b[0m\u001b[0m\u001b[0m \u001b[38;5;1m\u001b[1m\u001b[38;5;218m\u001b[38;5;218m\u001b[38;5;218m\u001b[38;5;218m0.0\u001b[0m\u001b[0m\u001b[0m\u001b[0m\u001b[0m  \u001b[38;5;1m\u001b[1m\u001b[38;5;218m\u001b[38;5;218m\u001b[38;5;218m\u001b[38;5;218m0.0\u001b[0m\u001b[0m\u001b[0m\u001b[0m\u001b[0m \u001b[38;5;218m\u001b[38;5;218m\u001b[38;5;218m\u001b[38;5;218m±\u001b[0m\u001b[0m\u001b[0m\u001b[0m \u001b[38;5;1m\u001b[1m\u001b[38;5;218m\u001b[38;5;218m\u001b[38;5;218m\u001b[38;5;218m0.0\u001b[0m\u001b[0m\u001b[0m\u001b[0m\u001b[0m  \u001b[38;5;218m0.531\u001b[0m \u001b[38;5;218m\u001b[38;5;218m\u001b[38;5;218m\u001b[38;5;218m±\u001b[0m\u001b[0m\u001b[0m\u001b[0m \u001b[38;5;1m\u001b[1m\u001b[38;5;218m\u001b[38;5;218m\u001b[38;5;218m\u001b[38;5;218m0.0\u001b[0m\u001b[0m\u001b[0m\u001b[0m\u001b[0m937    \u001b[38;5;218m1.0\u001b[0m \u001b[38;5;218m\u001b[38;5;218m\u001b[38;5;218m\u001b[38;5;218m±\u001b[0m\u001b[0m\u001b[0m\u001b[0m \u001b[38;5;1m\u001b[1m\u001b[38;5;218m\u001b[38;5;218m\u001b[38;5;218m\u001b[38;5;218m0.0\u001b[0m\u001b[0m\u001b[0m\u001b[0m\u001b[0m\n",
      "\u001b[38;5;178m\u001b[1m----------------------------\u001b[0m\n",
      "\u001b[38;5;178m\u001b[1mBagged scores\u001b[0m\n",
      "\u001b[38;5;178m\u001b[1m----------------------------\u001b[0m\n",
      "\t\u001b[38;5;178m\u001b[1mscore  kappa\u001b[0m\n",
      "\t\u001b[38;5;12m\u001b[1mvalid\u001b[0m    \u001b[38;5;12m\u001b[1m0.0\u001b[0m\n",
      "\t\u001b[38;5;1m\u001b[1mtest\u001b[0m     \u001b[38;5;1m\u001b[1m0.0\u001b[0m\n"
     ]
    }
   ],
   "source": [
    "!ramp_test_submission"
   ]
  },
  {
   "cell_type": "markdown",
   "metadata": {},
   "source": [
    "You can use the `--quick-test` switch to test the notebook on the mock data sets in `data/`. Since the data is random, the scores will not be meaningful, but it can be useful to run this first on your submissions to make sure they run without errors."
   ]
  },
  {
   "cell_type": "code",
   "execution_count": 24,
   "metadata": {},
   "outputs": [
    {
     "name": "stdout",
     "output_type": "stream",
     "text": [
      "\u001b[38;5;178m\u001b[1mTesting Fraud detection\u001b[0m\n",
      "\u001b[38;5;178m\u001b[1mReading train and test files from ./data ...\u001b[0m\n",
      "\u001b[38;5;178m\u001b[1mReading cv ...\u001b[0m\n",
      "\u001b[38;5;178m\u001b[1mTraining ./submissions/starting_kit ...\u001b[0m\n",
      "\u001b[38;5;178m\u001b[1mCV fold 0\u001b[0m\n",
      "\t\u001b[38;5;178m\u001b[1mscore  kappa  matthews  roc_auc    acc\u001b[0m\n",
      "\t\u001b[38;5;10m\u001b[1mtrain\u001b[0m    \u001b[38;5;10m\u001b[1m\u001b[38;5;150m0.0\u001b[0m\u001b[0m       \u001b[38;5;10m\u001b[1m\u001b[38;5;150m0.0\u001b[0m\u001b[0m    \u001b[38;5;150m0.517\u001b[0m  \u001b[38;5;150m0.999\u001b[0m\n",
      "\t\u001b[38;5;12m\u001b[1mvalid\u001b[0m    \u001b[38;5;12m\u001b[1m\u001b[38;5;105m0.0\u001b[0m\u001b[0m       \u001b[38;5;12m\u001b[1m\u001b[38;5;105m0.0\u001b[0m\u001b[0m    \u001b[38;5;105m0.498\u001b[0m  \u001b[38;5;105m0.999\u001b[0m\n",
      "\t\u001b[38;5;1m\u001b[1mtest\u001b[0m     \u001b[38;5;1m\u001b[1m\u001b[38;5;218m0.0\u001b[0m\u001b[0m       \u001b[38;5;1m\u001b[1m\u001b[38;5;218m0.0\u001b[0m\u001b[0m    \u001b[38;5;218m0.498\u001b[0m  \u001b[38;5;218m1.000\u001b[0m\n",
      "\u001b[38;5;178m\u001b[1mCV fold 1\u001b[0m\n",
      "\t\u001b[38;5;178m\u001b[1mscore  kappa  matthews  roc_auc    acc\u001b[0m\n",
      "\t\u001b[38;5;10m\u001b[1mtrain\u001b[0m    \u001b[38;5;10m\u001b[1m\u001b[38;5;150m0.0\u001b[0m\u001b[0m       \u001b[38;5;10m\u001b[1m\u001b[38;5;150m0.0\u001b[0m\u001b[0m    \u001b[38;5;150m0.598\u001b[0m  \u001b[38;5;150m0.999\u001b[0m\n",
      "\t\u001b[38;5;12m\u001b[1mvalid\u001b[0m    \u001b[38;5;12m\u001b[1m\u001b[38;5;105m0.0\u001b[0m\u001b[0m       \u001b[38;5;12m\u001b[1m\u001b[38;5;105m0.0\u001b[0m\u001b[0m    \u001b[38;5;105m0.497\u001b[0m  \u001b[38;5;105m0.999\u001b[0m\n",
      "\t\u001b[38;5;1m\u001b[1mtest\u001b[0m     \u001b[38;5;1m\u001b[1m\u001b[38;5;218m0.0\u001b[0m\u001b[0m       \u001b[38;5;1m\u001b[1m\u001b[38;5;218m0.0\u001b[0m\u001b[0m    \u001b[38;5;218m0.476\u001b[0m  \u001b[38;5;218m1.000\u001b[0m\n",
      "\u001b[38;5;178m\u001b[1mCV fold 2\u001b[0m\n",
      "\t\u001b[38;5;178m\u001b[1mscore  kappa  matthews  roc_auc    acc\u001b[0m\n",
      "\t\u001b[38;5;10m\u001b[1mtrain\u001b[0m    \u001b[38;5;10m\u001b[1m\u001b[38;5;150m0.0\u001b[0m\u001b[0m       \u001b[38;5;10m\u001b[1m\u001b[38;5;150m0.0\u001b[0m\u001b[0m    \u001b[38;5;150m0.539\u001b[0m  \u001b[38;5;150m0.999\u001b[0m\n",
      "\t\u001b[38;5;12m\u001b[1mvalid\u001b[0m    \u001b[38;5;12m\u001b[1m\u001b[38;5;105m0.0\u001b[0m\u001b[0m       \u001b[38;5;12m\u001b[1m\u001b[38;5;105m0.0\u001b[0m\u001b[0m    \u001b[38;5;105m0.511\u001b[0m  \u001b[38;5;105m0.999\u001b[0m\n",
      "\t\u001b[38;5;1m\u001b[1mtest\u001b[0m     \u001b[38;5;1m\u001b[1m\u001b[38;5;218m0.0\u001b[0m\u001b[0m       \u001b[38;5;1m\u001b[1m\u001b[38;5;218m0.0\u001b[0m\u001b[0m    \u001b[38;5;218m0.482\u001b[0m  \u001b[38;5;218m1.000\u001b[0m\n",
      "\u001b[38;5;178m\u001b[1mCV fold 3\u001b[0m\n",
      "\t\u001b[38;5;178m\u001b[1mscore  kappa  matthews  roc_auc    acc\u001b[0m\n",
      "\t\u001b[38;5;10m\u001b[1mtrain\u001b[0m    \u001b[38;5;10m\u001b[1m\u001b[38;5;150m0.0\u001b[0m\u001b[0m       \u001b[38;5;10m\u001b[1m\u001b[38;5;150m0.0\u001b[0m\u001b[0m    \u001b[38;5;150m0.576\u001b[0m  \u001b[38;5;150m0.999\u001b[0m\n",
      "\t\u001b[38;5;12m\u001b[1mvalid\u001b[0m    \u001b[38;5;12m\u001b[1m\u001b[38;5;105m0.0\u001b[0m\u001b[0m       \u001b[38;5;12m\u001b[1m\u001b[38;5;105m0.0\u001b[0m\u001b[0m    \u001b[38;5;105m0.504\u001b[0m  \u001b[38;5;105m0.999\u001b[0m\n",
      "\t\u001b[38;5;1m\u001b[1mtest\u001b[0m     \u001b[38;5;1m\u001b[1m\u001b[38;5;218m0.0\u001b[0m\u001b[0m       \u001b[38;5;1m\u001b[1m\u001b[38;5;218m0.0\u001b[0m\u001b[0m    \u001b[38;5;218m0.478\u001b[0m  \u001b[38;5;218m1.000\u001b[0m\n",
      "\u001b[38;5;178m\u001b[1mCV fold 4\u001b[0m\n",
      "\t\u001b[38;5;178m\u001b[1mscore  kappa  matthews  roc_auc    acc\u001b[0m\n",
      "\t\u001b[38;5;10m\u001b[1mtrain\u001b[0m    \u001b[38;5;10m\u001b[1m\u001b[38;5;150m0.0\u001b[0m\u001b[0m       \u001b[38;5;10m\u001b[1m\u001b[38;5;150m0.0\u001b[0m\u001b[0m    \u001b[38;5;150m0.541\u001b[0m  \u001b[38;5;150m0.999\u001b[0m\n",
      "\t\u001b[38;5;12m\u001b[1mvalid\u001b[0m    \u001b[38;5;12m\u001b[1m\u001b[38;5;105m0.0\u001b[0m\u001b[0m       \u001b[38;5;12m\u001b[1m\u001b[38;5;105m0.0\u001b[0m\u001b[0m    \u001b[38;5;105m0.511\u001b[0m  \u001b[38;5;105m0.999\u001b[0m\n",
      "\t\u001b[38;5;1m\u001b[1mtest\u001b[0m     \u001b[38;5;1m\u001b[1m\u001b[38;5;218m0.0\u001b[0m\u001b[0m       \u001b[38;5;1m\u001b[1m\u001b[38;5;218m0.0\u001b[0m\u001b[0m    \u001b[38;5;218m0.483\u001b[0m  \u001b[38;5;218m1.000\u001b[0m\n",
      "\u001b[38;5;178m\u001b[1mCV fold 5\u001b[0m\n",
      "\t\u001b[38;5;178m\u001b[1mscore  kappa  matthews  roc_auc    acc\u001b[0m\n",
      "\t\u001b[38;5;10m\u001b[1mtrain\u001b[0m    \u001b[38;5;10m\u001b[1m\u001b[38;5;150m0.0\u001b[0m\u001b[0m       \u001b[38;5;10m\u001b[1m\u001b[38;5;150m0.0\u001b[0m\u001b[0m    \u001b[38;5;150m0.579\u001b[0m  \u001b[38;5;150m0.999\u001b[0m\n",
      "\t\u001b[38;5;12m\u001b[1mvalid\u001b[0m    \u001b[38;5;12m\u001b[1m\u001b[38;5;105m0.0\u001b[0m\u001b[0m       \u001b[38;5;12m\u001b[1m\u001b[38;5;105m0.0\u001b[0m\u001b[0m    \u001b[38;5;105m0.480\u001b[0m  \u001b[38;5;105m0.999\u001b[0m\n",
      "\t\u001b[38;5;1m\u001b[1mtest\u001b[0m     \u001b[38;5;1m\u001b[1m\u001b[38;5;218m0.0\u001b[0m\u001b[0m       \u001b[38;5;1m\u001b[1m\u001b[38;5;218m0.0\u001b[0m\u001b[0m    \u001b[38;5;218m0.455\u001b[0m  \u001b[38;5;218m1.000\u001b[0m\n",
      "\u001b[38;5;178m\u001b[1mCV fold 6\u001b[0m\n",
      "\t\u001b[38;5;178m\u001b[1mscore  kappa  matthews  roc_auc    acc\u001b[0m\n",
      "\t\u001b[38;5;10m\u001b[1mtrain\u001b[0m    \u001b[38;5;10m\u001b[1m\u001b[38;5;150m0.0\u001b[0m\u001b[0m       \u001b[38;5;10m\u001b[1m\u001b[38;5;150m0.0\u001b[0m\u001b[0m    \u001b[38;5;150m0.517\u001b[0m  \u001b[38;5;150m0.999\u001b[0m\n",
      "\t\u001b[38;5;12m\u001b[1mvalid\u001b[0m    \u001b[38;5;12m\u001b[1m\u001b[38;5;105m0.0\u001b[0m\u001b[0m       \u001b[38;5;12m\u001b[1m\u001b[38;5;105m0.0\u001b[0m\u001b[0m    \u001b[38;5;105m0.516\u001b[0m  \u001b[38;5;105m0.999\u001b[0m\n",
      "\t\u001b[38;5;1m\u001b[1mtest\u001b[0m     \u001b[38;5;1m\u001b[1m\u001b[38;5;218m0.0\u001b[0m\u001b[0m       \u001b[38;5;1m\u001b[1m\u001b[38;5;218m0.0\u001b[0m\u001b[0m    \u001b[38;5;218m0.498\u001b[0m  \u001b[38;5;218m1.000\u001b[0m\n",
      "\u001b[38;5;178m\u001b[1mCV fold 7\u001b[0m\n",
      "\t\u001b[38;5;178m\u001b[1mscore  kappa  matthews  roc_auc    acc\u001b[0m\n",
      "\t\u001b[38;5;10m\u001b[1mtrain\u001b[0m    \u001b[38;5;10m\u001b[1m\u001b[38;5;150m0.0\u001b[0m\u001b[0m       \u001b[38;5;10m\u001b[1m\u001b[38;5;150m0.0\u001b[0m\u001b[0m    \u001b[38;5;150m0.535\u001b[0m  \u001b[38;5;150m0.999\u001b[0m\n",
      "\t\u001b[38;5;12m\u001b[1mvalid\u001b[0m    \u001b[38;5;12m\u001b[1m\u001b[38;5;105m0.0\u001b[0m\u001b[0m       \u001b[38;5;12m\u001b[1m\u001b[38;5;105m0.0\u001b[0m\u001b[0m    \u001b[38;5;105m0.497\u001b[0m  \u001b[38;5;105m0.999\u001b[0m\n",
      "\t\u001b[38;5;1m\u001b[1mtest\u001b[0m     \u001b[38;5;1m\u001b[1m\u001b[38;5;218m0.0\u001b[0m\u001b[0m       \u001b[38;5;1m\u001b[1m\u001b[38;5;218m0.0\u001b[0m\u001b[0m    \u001b[38;5;218m0.498\u001b[0m  \u001b[38;5;218m1.000\u001b[0m\n",
      "\u001b[38;5;178m\u001b[1m----------------------------\u001b[0m\n",
      "\u001b[38;5;178m\u001b[1mMean CV scores\u001b[0m\n",
      "\u001b[38;5;178m\u001b[1m----------------------------\u001b[0m\n",
      "\t\u001b[38;5;178m\u001b[1mscore      kappa   matthews         roc_auc          acc\u001b[0m\n",
      "\t\u001b[38;5;10m\u001b[1mtrain\u001b[0m  \u001b[38;5;10m\u001b[1m\u001b[38;5;150m\u001b[38;5;150m\u001b[38;5;150m\u001b[38;5;150m0.0\u001b[0m\u001b[0m\u001b[0m\u001b[0m\u001b[0m \u001b[38;5;150m\u001b[38;5;150m\u001b[38;5;150m\u001b[38;5;150m±\u001b[0m\u001b[0m\u001b[0m\u001b[0m \u001b[38;5;10m\u001b[1m\u001b[38;5;150m\u001b[38;5;150m\u001b[38;5;150m\u001b[38;5;150m0.0\u001b[0m\u001b[0m\u001b[0m\u001b[0m\u001b[0m  \u001b[38;5;10m\u001b[1m\u001b[38;5;150m\u001b[38;5;150m\u001b[38;5;150m\u001b[38;5;150m0.0\u001b[0m\u001b[0m\u001b[0m\u001b[0m\u001b[0m \u001b[38;5;150m\u001b[38;5;150m\u001b[38;5;150m\u001b[38;5;150m±\u001b[0m\u001b[0m\u001b[0m\u001b[0m \u001b[38;5;10m\u001b[1m\u001b[38;5;150m\u001b[38;5;150m\u001b[38;5;150m\u001b[38;5;150m0.0\u001b[0m\u001b[0m\u001b[0m\u001b[0m\u001b[0m   \u001b[38;5;150m0.55\u001b[0m \u001b[38;5;150m\u001b[38;5;150m\u001b[38;5;150m\u001b[38;5;150m±\u001b[0m\u001b[0m\u001b[0m\u001b[0m \u001b[38;5;10m\u001b[1m\u001b[38;5;150m\u001b[38;5;150m\u001b[38;5;150m\u001b[38;5;150m0.0\u001b[0m\u001b[0m\u001b[0m\u001b[0m\u001b[0m285  \u001b[38;5;150m0.999\u001b[0m \u001b[38;5;150m\u001b[38;5;150m\u001b[38;5;150m\u001b[38;5;150m±\u001b[0m\u001b[0m\u001b[0m\u001b[0m \u001b[38;5;10m\u001b[1m\u001b[38;5;150m\u001b[38;5;150m\u001b[38;5;150m\u001b[38;5;150m0.0\u001b[0m\u001b[0m\u001b[0m\u001b[0m\u001b[0m\n",
      "\t\u001b[38;5;12m\u001b[1mvalid\u001b[0m  \u001b[38;5;12m\u001b[1m\u001b[38;5;105m\u001b[38;5;105m\u001b[38;5;105m\u001b[38;5;105m0.0\u001b[0m\u001b[0m\u001b[0m\u001b[0m\u001b[0m \u001b[38;5;105m\u001b[38;5;105m\u001b[38;5;105m\u001b[38;5;105m±\u001b[0m\u001b[0m\u001b[0m\u001b[0m \u001b[38;5;12m\u001b[1m\u001b[38;5;105m\u001b[38;5;105m\u001b[38;5;105m\u001b[38;5;105m0.0\u001b[0m\u001b[0m\u001b[0m\u001b[0m\u001b[0m  \u001b[38;5;12m\u001b[1m\u001b[38;5;105m\u001b[38;5;105m\u001b[38;5;105m\u001b[38;5;105m0.0\u001b[0m\u001b[0m\u001b[0m\u001b[0m\u001b[0m \u001b[38;5;105m\u001b[38;5;105m\u001b[38;5;105m\u001b[38;5;105m±\u001b[0m\u001b[0m\u001b[0m\u001b[0m \u001b[38;5;12m\u001b[1m\u001b[38;5;105m\u001b[38;5;105m\u001b[38;5;105m\u001b[38;5;105m0.0\u001b[0m\u001b[0m\u001b[0m\u001b[0m\u001b[0m  \u001b[38;5;105m0.502\u001b[0m \u001b[38;5;105m\u001b[38;5;105m\u001b[38;5;105m\u001b[38;5;105m±\u001b[0m\u001b[0m\u001b[0m\u001b[0m \u001b[38;5;12m\u001b[1m\u001b[38;5;105m\u001b[38;5;105m\u001b[38;5;105m\u001b[38;5;105m0.0\u001b[0m\u001b[0m\u001b[0m\u001b[0m\u001b[0m107  \u001b[38;5;105m0.999\u001b[0m \u001b[38;5;105m\u001b[38;5;105m\u001b[38;5;105m\u001b[38;5;105m±\u001b[0m\u001b[0m\u001b[0m\u001b[0m \u001b[38;5;12m\u001b[1m\u001b[38;5;105m\u001b[38;5;105m\u001b[38;5;105m\u001b[38;5;105m0.0\u001b[0m\u001b[0m\u001b[0m\u001b[0m\u001b[0m\n",
      "\t\u001b[38;5;1m\u001b[1mtest\u001b[0m   \u001b[38;5;1m\u001b[1m\u001b[38;5;218m\u001b[38;5;218m\u001b[38;5;218m\u001b[38;5;218m0.0\u001b[0m\u001b[0m\u001b[0m\u001b[0m\u001b[0m \u001b[38;5;218m\u001b[38;5;218m\u001b[38;5;218m\u001b[38;5;218m±\u001b[0m\u001b[0m\u001b[0m\u001b[0m \u001b[38;5;1m\u001b[1m\u001b[38;5;218m\u001b[38;5;218m\u001b[38;5;218m\u001b[38;5;218m0.0\u001b[0m\u001b[0m\u001b[0m\u001b[0m\u001b[0m  \u001b[38;5;1m\u001b[1m\u001b[38;5;218m\u001b[38;5;218m\u001b[38;5;218m\u001b[38;5;218m0.0\u001b[0m\u001b[0m\u001b[0m\u001b[0m\u001b[0m \u001b[38;5;218m\u001b[38;5;218m\u001b[38;5;218m\u001b[38;5;218m±\u001b[0m\u001b[0m\u001b[0m\u001b[0m \u001b[38;5;1m\u001b[1m\u001b[38;5;218m\u001b[38;5;218m\u001b[38;5;218m\u001b[38;5;218m0.0\u001b[0m\u001b[0m\u001b[0m\u001b[0m\u001b[0m  \u001b[38;5;218m0.484\u001b[0m \u001b[38;5;218m\u001b[38;5;218m\u001b[38;5;218m\u001b[38;5;218m±\u001b[0m\u001b[0m\u001b[0m\u001b[0m \u001b[38;5;1m\u001b[1m\u001b[38;5;218m\u001b[38;5;218m\u001b[38;5;218m\u001b[38;5;218m0.0\u001b[0m\u001b[0m\u001b[0m\u001b[0m\u001b[0m139    \u001b[38;5;218m1.0\u001b[0m \u001b[38;5;218m\u001b[38;5;218m\u001b[38;5;218m\u001b[38;5;218m±\u001b[0m\u001b[0m\u001b[0m\u001b[0m \u001b[38;5;1m\u001b[1m\u001b[38;5;218m\u001b[38;5;218m\u001b[38;5;218m\u001b[38;5;218m0.0\u001b[0m\u001b[0m\u001b[0m\u001b[0m\u001b[0m\n",
      "\u001b[38;5;178m\u001b[1m----------------------------\u001b[0m\n",
      "\u001b[38;5;178m\u001b[1mBagged scores\u001b[0m\n",
      "\u001b[38;5;178m\u001b[1m----------------------------\u001b[0m\n",
      "\t\u001b[38;5;178m\u001b[1mscore  kappa\u001b[0m\n",
      "\t\u001b[38;5;12m\u001b[1mvalid\u001b[0m    \u001b[38;5;12m\u001b[1m0.0\u001b[0m\n",
      "\t\u001b[38;5;1m\u001b[1mtest\u001b[0m     \u001b[38;5;1m\u001b[1m0.0\u001b[0m\n"
     ]
    }
   ],
   "source": [
    "!ramp_test_submission --quick-test"
   ]
  },
  {
   "cell_type": "markdown",
   "metadata": {},
   "source": [
    "## Other models in the starting kit\n",
    "\n",
    "You can also keep several other submissions in your work directory [`submissions`](/tree/submissions) and test them using\n",
    "```\n",
    "ramp_test_submission --submission <submission_name>\n",
    "```\n",
    "where `<submission_name>` is the name of the folder in `submissions/`."
   ]
  },
  {
   "cell_type": "markdown",
   "metadata": {},
   "source": [
    "## Submitting to [ramp.studio](http://ramp.studio)\n",
    "\n",
    "If you are eligible, you can join the team at [ramp.studio](http://www.ramp.studio). If it is your first time using RAMP, [sign up](http://www.ramp.studio/sign_up), otherwise [log in](http://www.ramp.studio/login). \n",
    "\n",
    "Once your signup request is accepted, you can go to your [sandbox](http://www.ramp.studio/events/kaggle_seguro/sandbox) and copy-paste (or upload) [`feature_extractor.py`](/edit/submissions/starting_kit/feature_extractor.py) and [`classifier.py`](/edit/submissions/starting_kit/classifier.py) from `submissions/starting_kit`. Save it, rename it, then submit it. The submission is trained and tested on our backend in the same way as `ramp_test_submission` does it locally. While your submission is waiting in the queue and being trained, you can find it in the \"New submissions (pending training)\" table in [my submissions](http://www.ramp.studio/events/kaggle_seguro/my_submissions). Once it is trained, you get a mail, and your submission shows up on the [public leaderboard](http://www.ramp.studio/events/kaggle_seguro/leaderboard). \n",
    "If there is an error (despite having tested your submission locally with `ramp_test_submission`), it will show up in the \"Failed submissions\" table in [my submissions](http://www.ramp.studio/events/kaggle_seguro/my_submissions). You can click on the error to see part of the trace.\n",
    "\n",
    "After submission, do not forget to give credits to the previous submissions you reused or integrated into your submission.\n",
    "\n",
    "The data set we use at the backend is usually different from what you find in the starting kit, so the score may be different.\n",
    "\n",
    "The usual way to work with RAMP is to explore solutions, add feature transformations, select models, perhaps do some AutoML/hyperopt, etc., _locally_, and checking them with `ramp_test_submission`. The script prints mean cross-validation and test scores \n",
    "```\n",
    "----------------------------\n",
    "train ngini = 0.119 ± 0.007\n",
    "train auc = 0.559 ± 0.003\n",
    "train acc = 0.964 ± 0.0\n",
    "train nll = 0.156 ± 0.0\n",
    "valid ngini = 0.114 ± 0.005\n",
    "valid auc = 0.558 ± 0.002\n",
    "valid acc = 0.964 ± 0.0\n",
    "valid nll = 0.156 ± 0.0\n",
    "test ngini = 0.229 ± 0.256\n",
    "test auc = 0.307 ± 0.064\n",
    "test acc = 1.0 ± 0.0\n",
    "test nll = 0.037 ± 0.0\n",
    "```\n",
    "and bagged cross-validation and test scores\n",
    "```\n",
    "valid ngini = 0.167\n",
    "test ngini = -0.324\n",
    "```\n",
    "This latter combines the cross-validation models pointwise on the validation and test sets, and usually leads to a better score than the mean CV score. The RAMP [leaderboard](http://www.ramp.studio/events/kaggle_seguro/leaderboard) displays this score.\n",
    "\n",
    "The official score in this RAMP (the first score column after \"historical contributivity\" on the [leaderboard](http://www.ramp.studio/events/kaggle_seguro/leaderboard)) is normalized Gini (\"ngini\"), so the line that is relevant in the output of `ramp_test_submission` is `valid ngini = 0.167`. When the score is good enough, you can submit it at the RAMP."
   ]
  },
  {
   "cell_type": "markdown",
   "metadata": {},
   "source": [
    "## More information\n",
    "\n",
    "You can find more information in the [README](https://github.com/paris-saclay-cds/ramp-workflow/blob/master/README.md) of the [ramp-workflow library](https://github.com/paris-saclay-cds/ramp-workflow)."
   ]
  },
  {
   "cell_type": "markdown",
   "metadata": {},
   "source": [
    "## Contact\n",
    "\n",
    "Don't hesitate to [contact us](mailto:admin@ramp.studio?subject=kaggle seguro notebook)."
   ]
  }
 ],
 "metadata": {
  "anaconda-cloud": {},
  "kernelspec": {
   "display_name": "Python 3",
   "language": "python",
   "name": "python3"
  },
  "language_info": {
   "codemirror_mode": {
    "name": "ipython",
    "version": 3
   },
   "file_extension": ".py",
   "mimetype": "text/x-python",
   "name": "python",
   "nbconvert_exporter": "python",
   "pygments_lexer": "ipython3",
   "version": "3.6.1"
  }
 },
 "nbformat": 4,
 "nbformat_minor": 1
}
